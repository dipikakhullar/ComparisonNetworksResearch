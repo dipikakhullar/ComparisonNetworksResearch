{
 "cells": [
  {
   "cell_type": "code",
   "execution_count": 1,
   "metadata": {
    "scrolled": true
   },
   "outputs": [
    {
     "ename": "ModuleNotFoundError",
     "evalue": "No module named 'torch'",
     "output_type": "error",
     "traceback": [
      "\u001b[0;31m---------------------------------------------------------------------------\u001b[0m",
      "\u001b[0;31mModuleNotFoundError\u001b[0m                       Traceback (most recent call last)",
      "\u001b[0;32m<ipython-input-1-48dece03a9e8>\u001b[0m in \u001b[0;36m<module>\u001b[0;34m\u001b[0m\n\u001b[1;32m      3\u001b[0m \u001b[0;32mimport\u001b[0m \u001b[0mnumpy\u001b[0m \u001b[0;32mas\u001b[0m \u001b[0mnp\u001b[0m\u001b[0;34m\u001b[0m\u001b[0;34m\u001b[0m\u001b[0m\n\u001b[1;32m      4\u001b[0m \u001b[0;32mimport\u001b[0m \u001b[0mos\u001b[0m\u001b[0;34m\u001b[0m\u001b[0;34m\u001b[0m\u001b[0m\n\u001b[0;32m----> 5\u001b[0;31m \u001b[0;32mimport\u001b[0m \u001b[0mtorch\u001b[0m\u001b[0;34m\u001b[0m\u001b[0;34m\u001b[0m\u001b[0m\n\u001b[0m\u001b[1;32m      6\u001b[0m \u001b[0;32mimport\u001b[0m \u001b[0mtorchvision\u001b[0m\u001b[0;34m\u001b[0m\u001b[0;34m\u001b[0m\u001b[0m\n\u001b[1;32m      7\u001b[0m \u001b[0;32mimport\u001b[0m \u001b[0mtorchvision\u001b[0m\u001b[0;34m.\u001b[0m\u001b[0mtransforms\u001b[0m \u001b[0;32mas\u001b[0m \u001b[0mtransforms\u001b[0m\u001b[0;34m\u001b[0m\u001b[0;34m\u001b[0m\u001b[0m\n",
      "\u001b[0;31mModuleNotFoundError\u001b[0m: No module named 'torch'"
     ]
    }
   ],
   "source": [
    "import pickle\n",
    "import pandas as pd\n",
    "import numpy as np\n",
    "import os\n",
    "import torch\n",
    "import torchvision\n",
    "import torchvision.transforms as transforms\n",
    "from PIL import Image\n",
    "import cv2\n",
    "import os.path\n"
   ]
  },
  {
   "cell_type": "code",
   "execution_count": null,
   "metadata": {},
   "outputs": [],
   "source": []
  },
  {
   "cell_type": "markdown",
   "metadata": {},
   "source": [
    "` FACD_image - contains directories of the original and filtered images\n",
    "* original images - Origin\n",
    "* filtered images - 1977, Amaro, Apollp, Brannan, Earlybird, Gotham, Hefe, Hudson, Inkwell, Lofi, LordKevin, Mayfair, Nashville, Poprocket, Rise, Sierra, Sutro, Toaster, Valencia, Walden, Willow, and XProII\n",
    "FACD_metadata - contains two pkl files about the information of the images and the pairs\n",
    "* pairwise_comparison.pkl\n",
    "    * category - image category\n",
    "    * imgId - image ID\n",
    "    * f1 - the first filter\n",
    "    * f2 - the second filter\n",
    "    * ans - user preference between two filtered images\n",
    "    * score - the aesthetic score computed from comparison results\n",
    "    * class - high or low quality\n",
    "* image_score.pkl\n",
    "    * filterName - filter name\n",
    "    * imgId - image ID\n",
    "    * score - the aesthetic score computed from comparison results\n",
    "    * class - high or low quality`"
   ]
  },
  {
   "cell_type": "code",
   "execution_count": 2,
   "metadata": {},
   "outputs": [],
   "source": [
    "pickle_1 = open(\"FACD_metadata/pairwise_comparison.pkl\",\"rb\")\n",
    "pickle_2 = open(\"FACD_metadata/image_score.pkl\",\"rb\")\n",
    "comparison_pickle = pickle.load(pickle_1)\n",
    "image_score = pickle.load(pickle_2)"
   ]
  },
  {
   "cell_type": "code",
   "execution_count": 3,
   "metadata": {},
   "outputs": [
    {
     "name": "stdout",
     "output_type": "stream",
     "text": [
      "42240\n",
      "28160\n"
     ]
    },
    {
     "data": {
      "text/html": [
       "<div>\n",
       "<style scoped>\n",
       "    .dataframe tbody tr th:only-of-type {\n",
       "        vertical-align: middle;\n",
       "    }\n",
       "\n",
       "    .dataframe tbody tr th {\n",
       "        vertical-align: top;\n",
       "    }\n",
       "\n",
       "    .dataframe thead th {\n",
       "        text-align: right;\n",
       "    }\n",
       "</style>\n",
       "<table border=\"1\" class=\"dataframe\">\n",
       "  <thead>\n",
       "    <tr style=\"text-align: right;\">\n",
       "      <th></th>\n",
       "      <th>category</th>\n",
       "      <th>f1</th>\n",
       "      <th>f2</th>\n",
       "      <th>workerId</th>\n",
       "      <th>passDup</th>\n",
       "      <th>imgId</th>\n",
       "      <th>ans</th>\n",
       "    </tr>\n",
       "  </thead>\n",
       "  <tbody>\n",
       "    <tr>\n",
       "      <th>0</th>\n",
       "      <td>2</td>\n",
       "      <td>Willow</td>\n",
       "      <td>1977</td>\n",
       "      <td>A34M93NJC830DP</td>\n",
       "      <td>True</td>\n",
       "      <td>755006</td>\n",
       "      <td>right</td>\n",
       "    </tr>\n",
       "    <tr>\n",
       "      <th>1</th>\n",
       "      <td>1</td>\n",
       "      <td>Toaster</td>\n",
       "      <td>Valencia</td>\n",
       "      <td>A34M93NJC830DP</td>\n",
       "      <td>True</td>\n",
       "      <td>451445</td>\n",
       "      <td>right</td>\n",
       "    </tr>\n",
       "    <tr>\n",
       "      <th>2</th>\n",
       "      <td>3</td>\n",
       "      <td>Apollo</td>\n",
       "      <td>Brannan</td>\n",
       "      <td>A34M93NJC830DP</td>\n",
       "      <td>True</td>\n",
       "      <td>749452</td>\n",
       "      <td>right</td>\n",
       "    </tr>\n",
       "    <tr>\n",
       "      <th>3</th>\n",
       "      <td>4</td>\n",
       "      <td>Sutro</td>\n",
       "      <td>Walden</td>\n",
       "      <td>A1PCTP576OW35H</td>\n",
       "      <td>True</td>\n",
       "      <td>653868</td>\n",
       "      <td>left</td>\n",
       "    </tr>\n",
       "    <tr>\n",
       "      <th>4</th>\n",
       "      <td>0</td>\n",
       "      <td>1977</td>\n",
       "      <td>Brannan</td>\n",
       "      <td>A1PCTP576OW35H</td>\n",
       "      <td>True</td>\n",
       "      <td>55771</td>\n",
       "      <td>left</td>\n",
       "    </tr>\n",
       "  </tbody>\n",
       "</table>\n",
       "</div>"
      ],
      "text/plain": [
       "   category       f1        f2        workerId  passDup   imgId    ans\n",
       "0         2   Willow      1977  A34M93NJC830DP     True  755006  right\n",
       "1         1  Toaster  Valencia  A34M93NJC830DP     True  451445  right\n",
       "2         3   Apollo   Brannan  A34M93NJC830DP     True  749452  right\n",
       "3         4    Sutro    Walden  A1PCTP576OW35H     True  653868   left\n",
       "4         0     1977   Brannan  A1PCTP576OW35H     True   55771   left"
      ]
     },
     "execution_count": 3,
     "metadata": {},
     "output_type": "execute_result"
    }
   ],
   "source": [
    "comparison_pickle = pd.DataFrame(comparison_pickle)\n",
    "image_score = pd.DataFrame(image_score)\n",
    "print(len(comparison_pickle))\n",
    "print(len(image_score))\n",
    "comparison_pickle.head(n=5)"
   ]
  },
  {
   "cell_type": "code",
   "execution_count": 4,
   "metadata": {},
   "outputs": [
    {
     "name": "stdout",
     "output_type": "stream",
     "text": [
      "{0, 1, 2, 3, -2, -3, -1}\n"
     ]
    },
    {
     "data": {
      "text/html": [
       "<div>\n",
       "<style scoped>\n",
       "    .dataframe tbody tr th:only-of-type {\n",
       "        vertical-align: middle;\n",
       "    }\n",
       "\n",
       "    .dataframe tbody tr th {\n",
       "        vertical-align: top;\n",
       "    }\n",
       "\n",
       "    .dataframe thead th {\n",
       "        text-align: right;\n",
       "    }\n",
       "</style>\n",
       "<table border=\"1\" class=\"dataframe\">\n",
       "  <thead>\n",
       "    <tr style=\"text-align: right;\">\n",
       "      <th></th>\n",
       "      <th>filterName</th>\n",
       "      <th>imgId</th>\n",
       "      <th>class</th>\n",
       "      <th>score</th>\n",
       "    </tr>\n",
       "  </thead>\n",
       "  <tbody>\n",
       "    <tr>\n",
       "      <th>0</th>\n",
       "      <td>Brannan</td>\n",
       "      <td>137059</td>\n",
       "      <td>1</td>\n",
       "      <td>3</td>\n",
       "    </tr>\n",
       "    <tr>\n",
       "      <th>1</th>\n",
       "      <td>Willow</td>\n",
       "      <td>137059</td>\n",
       "      <td>0</td>\n",
       "      <td>-1</td>\n",
       "    </tr>\n",
       "    <tr>\n",
       "      <th>2</th>\n",
       "      <td>Mayfair</td>\n",
       "      <td>137059</td>\n",
       "      <td>1</td>\n",
       "      <td>3</td>\n",
       "    </tr>\n",
       "    <tr>\n",
       "      <th>3</th>\n",
       "      <td>Hudson</td>\n",
       "      <td>137059</td>\n",
       "      <td>0</td>\n",
       "      <td>-1</td>\n",
       "    </tr>\n",
       "    <tr>\n",
       "      <th>4</th>\n",
       "      <td>Gotham</td>\n",
       "      <td>137059</td>\n",
       "      <td>1</td>\n",
       "      <td>3</td>\n",
       "    </tr>\n",
       "  </tbody>\n",
       "</table>\n",
       "</div>"
      ],
      "text/plain": [
       "  filterName   imgId class  score\n",
       "0    Brannan  137059     1      3\n",
       "1     Willow  137059     0     -1\n",
       "2    Mayfair  137059     1      3\n",
       "3     Hudson  137059     0     -1\n",
       "4     Gotham  137059     1      3"
      ]
     },
     "execution_count": 4,
     "metadata": {},
     "output_type": "execute_result"
    }
   ],
   "source": [
    "print(set(image_score['score']))\n",
    "image_score.head()"
   ]
  },
  {
   "cell_type": "code",
   "execution_count": 5,
   "metadata": {},
   "outputs": [
    {
     "name": "stdout",
     "output_type": "stream",
     "text": [
      "4964\n"
     ]
    },
    {
     "data": {
      "text/html": [
       "<div>\n",
       "<style scoped>\n",
       "    .dataframe tbody tr th:only-of-type {\n",
       "        vertical-align: middle;\n",
       "    }\n",
       "\n",
       "    .dataframe tbody tr th {\n",
       "        vertical-align: top;\n",
       "    }\n",
       "\n",
       "    .dataframe thead th {\n",
       "        text-align: right;\n",
       "    }\n",
       "</style>\n",
       "<table border=\"1\" class=\"dataframe\">\n",
       "  <thead>\n",
       "    <tr style=\"text-align: right;\">\n",
       "      <th></th>\n",
       "      <th>category</th>\n",
       "      <th>f1</th>\n",
       "      <th>f2</th>\n",
       "      <th>workerId</th>\n",
       "      <th>passDup</th>\n",
       "      <th>imgId</th>\n",
       "      <th>ans</th>\n",
       "    </tr>\n",
       "  </thead>\n",
       "  <tbody>\n",
       "    <tr>\n",
       "      <th>4</th>\n",
       "      <td>0</td>\n",
       "      <td>1977</td>\n",
       "      <td>Brannan</td>\n",
       "      <td>A1PCTP576OW35H</td>\n",
       "      <td>True</td>\n",
       "      <td>55771</td>\n",
       "      <td>left</td>\n",
       "    </tr>\n",
       "    <tr>\n",
       "      <th>18</th>\n",
       "      <td>0</td>\n",
       "      <td>XProII</td>\n",
       "      <td>Nashville</td>\n",
       "      <td>AAOTQL1SCAC03</td>\n",
       "      <td>True</td>\n",
       "      <td>606762</td>\n",
       "      <td>left</td>\n",
       "    </tr>\n",
       "    <tr>\n",
       "      <th>22</th>\n",
       "      <td>0</td>\n",
       "      <td>Hudson</td>\n",
       "      <td>Apollo</td>\n",
       "      <td>AAOTQL1SCAC03</td>\n",
       "      <td>True</td>\n",
       "      <td>338983</td>\n",
       "      <td>left</td>\n",
       "    </tr>\n",
       "    <tr>\n",
       "      <th>26</th>\n",
       "      <td>0</td>\n",
       "      <td>Lofi</td>\n",
       "      <td>Hefe</td>\n",
       "      <td>ANPCXN619ACW9</td>\n",
       "      <td>True</td>\n",
       "      <td>713650</td>\n",
       "      <td>right</td>\n",
       "    </tr>\n",
       "    <tr>\n",
       "      <th>51</th>\n",
       "      <td>0</td>\n",
       "      <td>Valencia</td>\n",
       "      <td>Amaro</td>\n",
       "      <td>A15RDD1EQIZSX3</td>\n",
       "      <td>True</td>\n",
       "      <td>124458</td>\n",
       "      <td>left</td>\n",
       "    </tr>\n",
       "  </tbody>\n",
       "</table>\n",
       "</div>"
      ],
      "text/plain": [
       "    category        f1         f2        workerId  passDup   imgId    ans\n",
       "4          0      1977    Brannan  A1PCTP576OW35H     True   55771   left\n",
       "18         0    XProII  Nashville   AAOTQL1SCAC03     True  606762   left\n",
       "22         0    Hudson     Apollo   AAOTQL1SCAC03     True  338983   left\n",
       "26         0      Lofi       Hefe   ANPCXN619ACW9     True  713650  right\n",
       "51         0  Valencia      Amaro  A15RDD1EQIZSX3     True  124458   left"
      ]
     },
     "execution_count": 5,
     "metadata": {},
     "output_type": "execute_result"
    }
   ],
   "source": [
    "category_0 = comparison_pickle[comparison_pickle['category']==0]\n",
    "category_0 = category_0[category_0['ans'].isin([\"left\", 'right'])]\n",
    "print(len(category_0))\n",
    "category_0.head()"
   ]
  },
  {
   "cell_type": "code",
   "execution_count": 10,
   "metadata": {},
   "outputs": [],
   "source": [
    "def image_to_tensor(file_path_list, size = (3, 224, 224)):\n",
    "    output = []\n",
    "    for file_path in file_path_list:\n",
    "        im= np.asarray(Image.open(file_path).convert('RGB'))\n",
    "        im=cv2.resize(im, dsize=(size[1],size[2]))\n",
    "#         print(im.shape)\n",
    "        im = np.reshape(im, size)\n",
    "        output.append(im)\n",
    "    return output\n",
    "\n",
    "def find_image(filter_name, image_id):\n",
    "    for file in os.listdir(\"./FACD_image/\"+ filter_name):\n",
    "        if image_id in file:\n",
    "            return \"./FACD_image/\"+ filter_name + \"/\" + str(image_id) + \".jpg\"\n",
    "        \n",
    "def generate_comparison_data(category_df):\n",
    "    comp1 = []\n",
    "    comp2 = []\n",
    "    comp_labels =[]\n",
    "    labels_map = {\"left\": 1, \"right\": 0}\n",
    "    for index, row in category_df.iterrows():\n",
    "        img_id = row['imgId']\n",
    "        comp1_filter = row['f1']\n",
    "        comp2_filter = row['f2']\n",
    "        fname1 = \"./FACD_image/\"+ comp1_filter + \"/\" + str(img_id) + \".jpg\"\n",
    "        fname2 = \"./FACD_image/\"+ comp2_filter + \"/\" + str(img_id) + \".jpg\"\n",
    "        if os.path.isfile(fname1) and os.path.isfile(fname2):\n",
    "            comp1.append(fname1)\n",
    "            comp2.append(fname2)\n",
    "            comp_labels.append(labels_map[row['ans']])\n",
    "    return comp1, comp2, comp_labels\n",
    "            \n",
    "# generate_comparison_data(category_0)"
   ]
  },
  {
   "cell_type": "code",
   "execution_count": 9,
   "metadata": {},
   "outputs": [],
   "source": [
    "category_0 = comparison_pickle[comparison_pickle['category']==0]\n",
    "winning_filters = []\n",
    "for index, row in category_0.iterrows():\n",
    "    if row['ans'] == \"left\":\n",
    "        winning_filters.append(row['f1'])\n",
    "    else:\n",
    "        winning_filters.append(row['f2'])"
   ]
  },
  {
   "cell_type": "code",
   "execution_count": 10,
   "metadata": {},
   "outputs": [],
   "source": [
    "image_id_score_map = {}\n",
    "imgid = list(image_score[\"imgId\"])\n",
    "filters = list(image_score[\"filterName\"])\n",
    "scores = list(image_score[\"score\"])\n",
    "for i in range(0, len(imgid)):\n",
    "    img_i = imgid[i]\n",
    "    score_i = scores[i]\n",
    "    filter_i = filters[i]\n",
    "    image_id_score_map[(img_i,filter_i)] = score_i\n",
    "    \n",
    "\n",
    "\n",
    "score_column = []\n",
    "count = 0\n",
    "for index, row in category_0.iterrows():\n",
    "    img = row['imgId']\n",
    "    winning_filter = winning_filters[count]\n",
    "    to_add = image_id_score_map[img, winning_filter]\n",
    "    count += 1\n",
    "    score_column.append(to_add)"
   ]
  },
  {
   "cell_type": "code",
   "execution_count": 11,
   "metadata": {},
   "outputs": [
    {
     "name": "stderr",
     "output_type": "stream",
     "text": [
      "<ipython-input-11-ef47751bb536>:1: SettingWithCopyWarning: \n",
      "A value is trying to be set on a copy of a slice from a DataFrame.\n",
      "Try using .loc[row_indexer,col_indexer] = value instead\n",
      "\n",
      "See the caveats in the documentation: https://pandas.pydata.org/pandas-docs/stable/user_guide/indexing.html#returning-a-view-versus-a-copy\n",
      "  category_0[\"score\"]=score_column\n"
     ]
    },
    {
     "data": {
      "text/html": [
       "<div>\n",
       "<style scoped>\n",
       "    .dataframe tbody tr th:only-of-type {\n",
       "        vertical-align: middle;\n",
       "    }\n",
       "\n",
       "    .dataframe tbody tr th {\n",
       "        vertical-align: top;\n",
       "    }\n",
       "\n",
       "    .dataframe thead th {\n",
       "        text-align: right;\n",
       "    }\n",
       "</style>\n",
       "<table border=\"1\" class=\"dataframe\">\n",
       "  <thead>\n",
       "    <tr style=\"text-align: right;\">\n",
       "      <th></th>\n",
       "      <th>category</th>\n",
       "      <th>f1</th>\n",
       "      <th>f2</th>\n",
       "      <th>workerId</th>\n",
       "      <th>passDup</th>\n",
       "      <th>imgId</th>\n",
       "      <th>ans</th>\n",
       "      <th>score</th>\n",
       "    </tr>\n",
       "  </thead>\n",
       "  <tbody>\n",
       "    <tr>\n",
       "      <th>4</th>\n",
       "      <td>0</td>\n",
       "      <td>1977</td>\n",
       "      <td>Brannan</td>\n",
       "      <td>A1PCTP576OW35H</td>\n",
       "      <td>True</td>\n",
       "      <td>55771</td>\n",
       "      <td>left</td>\n",
       "      <td>3</td>\n",
       "    </tr>\n",
       "    <tr>\n",
       "      <th>11</th>\n",
       "      <td>0</td>\n",
       "      <td>Gotham</td>\n",
       "      <td>Earlybird</td>\n",
       "      <td>A1PCTP576OW35H</td>\n",
       "      <td>True</td>\n",
       "      <td>386053</td>\n",
       "      <td>equal</td>\n",
       "      <td>2</td>\n",
       "    </tr>\n",
       "    <tr>\n",
       "      <th>18</th>\n",
       "      <td>0</td>\n",
       "      <td>XProII</td>\n",
       "      <td>Nashville</td>\n",
       "      <td>AAOTQL1SCAC03</td>\n",
       "      <td>True</td>\n",
       "      <td>606762</td>\n",
       "      <td>left</td>\n",
       "      <td>-1</td>\n",
       "    </tr>\n",
       "    <tr>\n",
       "      <th>22</th>\n",
       "      <td>0</td>\n",
       "      <td>Hudson</td>\n",
       "      <td>Apollo</td>\n",
       "      <td>AAOTQL1SCAC03</td>\n",
       "      <td>True</td>\n",
       "      <td>338983</td>\n",
       "      <td>left</td>\n",
       "      <td>2</td>\n",
       "    </tr>\n",
       "    <tr>\n",
       "      <th>26</th>\n",
       "      <td>0</td>\n",
       "      <td>Lofi</td>\n",
       "      <td>Hefe</td>\n",
       "      <td>ANPCXN619ACW9</td>\n",
       "      <td>True</td>\n",
       "      <td>713650</td>\n",
       "      <td>right</td>\n",
       "      <td>3</td>\n",
       "    </tr>\n",
       "  </tbody>\n",
       "</table>\n",
       "</div>"
      ],
      "text/plain": [
       "    category      f1         f2        workerId  passDup   imgId    ans  score\n",
       "4          0    1977    Brannan  A1PCTP576OW35H     True   55771   left      3\n",
       "11         0  Gotham  Earlybird  A1PCTP576OW35H     True  386053  equal      2\n",
       "18         0  XProII  Nashville   AAOTQL1SCAC03     True  606762   left     -1\n",
       "22         0  Hudson     Apollo   AAOTQL1SCAC03     True  338983   left      2\n",
       "26         0    Lofi       Hefe   ANPCXN619ACW9     True  713650  right      3"
      ]
     },
     "execution_count": 11,
     "metadata": {},
     "output_type": "execute_result"
    }
   ],
   "source": [
    "category_0[\"score\"]=score_column\n",
    "category_0.head()"
   ]
  },
  {
   "cell_type": "code",
   "execution_count": 14,
   "metadata": {},
   "outputs": [],
   "source": [
    "len(category_0)\n",
    "abs_images = []\n",
    "abs_labels = []\n",
    "for index, row in category_0.iterrows():\n",
    "    img_id = row[\"imgId\"]\n",
    "    if row['ans'] == \"left\":\n",
    "        f1 = row['f1']\n",
    "        fname1 = \"./FACD_image/\"+ f1 + \"/\" + str(img_id) + \".jpg\"\n",
    "        if os.path.isfile(fname1):\n",
    "            abs_images.append(fname1)\n",
    "            abs_labels.append(row['score'])\n",
    "    else:\n",
    "        f2 = row['f2']\n",
    "        fname2 = \"./FACD_image/\"+ f2 + \"/\" + str(img_id) + \".jpg\"\n",
    "        if os.path.isfile(fname2):\n",
    "            abs_images.append(fname2)\n",
    "            abs_labels.append(row['score'])"
   ]
  },
  {
   "cell_type": "code",
   "execution_count": null,
   "metadata": {},
   "outputs": [],
   "source": []
  },
  {
   "cell_type": "code",
   "execution_count": null,
   "metadata": {},
   "outputs": [],
   "source": []
  },
  {
   "cell_type": "code",
   "execution_count": null,
   "metadata": {},
   "outputs": [],
   "source": []
  },
  {
   "cell_type": "code",
   "execution_count": null,
   "metadata": {},
   "outputs": [],
   "source": []
  },
  {
   "cell_type": "code",
   "execution_count": null,
   "metadata": {},
   "outputs": [],
   "source": []
  },
  {
   "cell_type": "code",
   "execution_count": 20,
   "metadata": {},
   "outputs": [
    {
     "name": "stdout",
     "output_type": "stream",
     "text": [
      "42240\n",
      "1280\n",
      "28160\n"
     ]
    }
   ],
   "source": [
    "print(len(comparison_pickle['imgId']))\n",
    "print(len(set(comparison_pickle['imgId'])))\n",
    "print(len(image_score['imgId']))"
   ]
  },
  {
   "cell_type": "code",
   "execution_count": 21,
   "metadata": {},
   "outputs": [],
   "source": [
    "\n"
   ]
  },
  {
   "cell_type": "code",
   "execution_count": null,
   "metadata": {},
   "outputs": [],
   "source": []
  },
  {
   "cell_type": "code",
   "execution_count": 23,
   "metadata": {},
   "outputs": [],
   "source": []
  },
  {
   "cell_type": "code",
   "execution_count": 24,
   "metadata": {},
   "outputs": [],
   "source": []
  },
  {
   "cell_type": "code",
   "execution_count": 25,
   "metadata": {},
   "outputs": [
    {
     "data": {
      "text/html": [
       "<div>\n",
       "<style scoped>\n",
       "    .dataframe tbody tr th:only-of-type {\n",
       "        vertical-align: middle;\n",
       "    }\n",
       "\n",
       "    .dataframe tbody tr th {\n",
       "        vertical-align: top;\n",
       "    }\n",
       "\n",
       "    .dataframe thead th {\n",
       "        text-align: right;\n",
       "    }\n",
       "</style>\n",
       "<table border=\"1\" class=\"dataframe\">\n",
       "  <thead>\n",
       "    <tr style=\"text-align: right;\">\n",
       "      <th></th>\n",
       "      <th>category</th>\n",
       "      <th>f1</th>\n",
       "      <th>f2</th>\n",
       "      <th>workerId</th>\n",
       "      <th>passDup</th>\n",
       "      <th>imgId</th>\n",
       "      <th>ans</th>\n",
       "    </tr>\n",
       "  </thead>\n",
       "  <tbody>\n",
       "    <tr>\n",
       "      <th>4</th>\n",
       "      <td>0</td>\n",
       "      <td>1977</td>\n",
       "      <td>Brannan</td>\n",
       "      <td>A1PCTP576OW35H</td>\n",
       "      <td>True</td>\n",
       "      <td>55771</td>\n",
       "      <td>left</td>\n",
       "    </tr>\n",
       "    <tr>\n",
       "      <th>11</th>\n",
       "      <td>0</td>\n",
       "      <td>Gotham</td>\n",
       "      <td>Earlybird</td>\n",
       "      <td>A1PCTP576OW35H</td>\n",
       "      <td>True</td>\n",
       "      <td>386053</td>\n",
       "      <td>equal</td>\n",
       "    </tr>\n",
       "    <tr>\n",
       "      <th>18</th>\n",
       "      <td>0</td>\n",
       "      <td>XProII</td>\n",
       "      <td>Nashville</td>\n",
       "      <td>AAOTQL1SCAC03</td>\n",
       "      <td>True</td>\n",
       "      <td>606762</td>\n",
       "      <td>left</td>\n",
       "    </tr>\n",
       "    <tr>\n",
       "      <th>22</th>\n",
       "      <td>0</td>\n",
       "      <td>Hudson</td>\n",
       "      <td>Apollo</td>\n",
       "      <td>AAOTQL1SCAC03</td>\n",
       "      <td>True</td>\n",
       "      <td>338983</td>\n",
       "      <td>left</td>\n",
       "    </tr>\n",
       "    <tr>\n",
       "      <th>26</th>\n",
       "      <td>0</td>\n",
       "      <td>Lofi</td>\n",
       "      <td>Hefe</td>\n",
       "      <td>ANPCXN619ACW9</td>\n",
       "      <td>True</td>\n",
       "      <td>713650</td>\n",
       "      <td>right</td>\n",
       "    </tr>\n",
       "  </tbody>\n",
       "</table>\n",
       "</div>"
      ],
      "text/plain": [
       "    category      f1         f2        workerId  passDup   imgId    ans\n",
       "4          0    1977    Brannan  A1PCTP576OW35H     True   55771   left\n",
       "11         0  Gotham  Earlybird  A1PCTP576OW35H     True  386053  equal\n",
       "18         0  XProII  Nashville   AAOTQL1SCAC03     True  606762   left\n",
       "22         0  Hudson     Apollo   AAOTQL1SCAC03     True  338983   left\n",
       "26         0    Lofi       Hefe   ANPCXN619ACW9     True  713650  right"
      ]
     },
     "execution_count": 25,
     "metadata": {},
     "output_type": "execute_result"
    }
   ],
   "source": [
    "\n",
    "category_0.head()"
   ]
  },
  {
   "cell_type": "code",
   "execution_count": 82,
   "metadata": {},
   "outputs": [
    {
     "name": "stdout",
     "output_type": "stream",
     "text": [
      "{0, 1, 2, 3, -2, -1}\n",
      "4864\n"
     ]
    },
    {
     "data": {
      "text/html": [
       "<div>\n",
       "<style scoped>\n",
       "    .dataframe tbody tr th:only-of-type {\n",
       "        vertical-align: middle;\n",
       "    }\n",
       "\n",
       "    .dataframe tbody tr th {\n",
       "        vertical-align: top;\n",
       "    }\n",
       "\n",
       "    .dataframe thead th {\n",
       "        text-align: right;\n",
       "    }\n",
       "</style>\n",
       "<table border=\"1\" class=\"dataframe\">\n",
       "  <thead>\n",
       "    <tr style=\"text-align: right;\">\n",
       "      <th></th>\n",
       "      <th>category</th>\n",
       "      <th>f1</th>\n",
       "      <th>f2</th>\n",
       "      <th>workerId</th>\n",
       "      <th>passDup</th>\n",
       "      <th>imgId</th>\n",
       "      <th>ans</th>\n",
       "      <th>score</th>\n",
       "    </tr>\n",
       "  </thead>\n",
       "  <tbody>\n",
       "    <tr>\n",
       "      <th>1</th>\n",
       "      <td>1</td>\n",
       "      <td>Toaster</td>\n",
       "      <td>Valencia</td>\n",
       "      <td>A34M93NJC830DP</td>\n",
       "      <td>True</td>\n",
       "      <td>451445</td>\n",
       "      <td>right</td>\n",
       "      <td>-1</td>\n",
       "    </tr>\n",
       "    <tr>\n",
       "      <th>5</th>\n",
       "      <td>1</td>\n",
       "      <td>Amaro</td>\n",
       "      <td>Willow</td>\n",
       "      <td>A1PCTP576OW35H</td>\n",
       "      <td>True</td>\n",
       "      <td>695877</td>\n",
       "      <td>left</td>\n",
       "      <td>1</td>\n",
       "    </tr>\n",
       "    <tr>\n",
       "      <th>23</th>\n",
       "      <td>1</td>\n",
       "      <td>Apollo</td>\n",
       "      <td>Mayfair</td>\n",
       "      <td>ANPCXN619ACW9</td>\n",
       "      <td>True</td>\n",
       "      <td>791689</td>\n",
       "      <td>right</td>\n",
       "      <td>1</td>\n",
       "    </tr>\n",
       "    <tr>\n",
       "      <th>24</th>\n",
       "      <td>1</td>\n",
       "      <td>Brannan</td>\n",
       "      <td>Earlybird</td>\n",
       "      <td>ANPCXN619ACW9</td>\n",
       "      <td>True</td>\n",
       "      <td>824571</td>\n",
       "      <td>right</td>\n",
       "      <td>3</td>\n",
       "    </tr>\n",
       "    <tr>\n",
       "      <th>28</th>\n",
       "      <td>1</td>\n",
       "      <td>Sutro</td>\n",
       "      <td>Apollo</td>\n",
       "      <td>ANPCXN619ACW9</td>\n",
       "      <td>True</td>\n",
       "      <td>664173</td>\n",
       "      <td>left</td>\n",
       "      <td>1</td>\n",
       "    </tr>\n",
       "  </tbody>\n",
       "</table>\n",
       "</div>"
      ],
      "text/plain": [
       "    category       f1         f2        workerId  passDup   imgId    ans  \\\n",
       "1          1  Toaster   Valencia  A34M93NJC830DP     True  451445  right   \n",
       "5          1    Amaro     Willow  A1PCTP576OW35H     True  695877   left   \n",
       "23         1   Apollo    Mayfair   ANPCXN619ACW9     True  791689  right   \n",
       "24         1  Brannan  Earlybird   ANPCXN619ACW9     True  824571  right   \n",
       "28         1    Sutro     Apollo   ANPCXN619ACW9     True  664173   left   \n",
       "\n",
       "    score  \n",
       "1      -1  \n",
       "5       1  \n",
       "23      1  \n",
       "24      3  \n",
       "28      1  "
      ]
     },
     "execution_count": 82,
     "metadata": {},
     "output_type": "execute_result"
    }
   ],
   "source": [
    "print(set(category_0['score']))\n",
    "category_0_ = category_0[category_0['score'].isin([-3, 2, 3, 2, 1, -1])]\n",
    "print(len(category_0_))\n",
    "category_0_.head()"
   ]
  },
  {
   "cell_type": "code",
   "execution_count": 57,
   "metadata": {},
   "outputs": [
    {
     "name": "stdout",
     "output_type": "stream",
     "text": [
      "9327\n"
     ]
    }
   ],
   "source": [
    "comparison_pickle_test= image_score[image_score['score'].isin([-3,3])]\n",
    "print(len(comparison_pickle_test))"
   ]
  },
  {
   "cell_type": "code",
   "execution_count": null,
   "metadata": {},
   "outputs": [],
   "source": []
  },
  {
   "cell_type": "code",
   "execution_count": 13,
   "metadata": {},
   "outputs": [
    {
     "name": "stdout",
     "output_type": "stream",
     "text": [
      "604\n",
      "8\n",
      "5280\n",
      "0\n",
      "1932 1908 3840\n"
     ]
    }
   ],
   "source": [
    "print(len(set(image_score['imgId'])))\n",
    "print(len(set(comparison_pickle['category'])))\n",
    "print(len(comparison_pickle[comparison_pickle['category']==0]))\n",
    "print(len(image_score[image_score['filterName']==\"1977\"]))\n",
    "\n",
    "# comparison_pickle = comparison_pickle[comparison_pickle['score']==3]\n",
    "len_a= len(comparison_pickle[comparison_pickle['f1']==\"1977\"])\n",
    "len_b =len(comparison_pickle[comparison_pickle['f2']==\"1977\"])\n",
    "print(len_a, len_b, len_a + len_b)"
   ]
  },
  {
   "cell_type": "code",
   "execution_count": 8,
   "metadata": {},
   "outputs": [
    {
     "data": {
      "text/html": [
       "<div>\n",
       "<style scoped>\n",
       "    .dataframe tbody tr th:only-of-type {\n",
       "        vertical-align: middle;\n",
       "    }\n",
       "\n",
       "    .dataframe tbody tr th {\n",
       "        vertical-align: top;\n",
       "    }\n",
       "\n",
       "    .dataframe thead th {\n",
       "        text-align: right;\n",
       "    }\n",
       "</style>\n",
       "<table border=\"1\" class=\"dataframe\">\n",
       "  <thead>\n",
       "    <tr style=\"text-align: right;\">\n",
       "      <th></th>\n",
       "      <th>filterName</th>\n",
       "      <th>imgId</th>\n",
       "      <th>class</th>\n",
       "      <th>score</th>\n",
       "    </tr>\n",
       "  </thead>\n",
       "  <tbody>\n",
       "    <tr>\n",
       "      <th>7</th>\n",
       "      <td>Valencia</td>\n",
       "      <td>137059</td>\n",
       "      <td>0</td>\n",
       "      <td>-3</td>\n",
       "    </tr>\n",
       "    <tr>\n",
       "      <th>29</th>\n",
       "      <td>Valencia</td>\n",
       "      <td>696485</td>\n",
       "      <td>0</td>\n",
       "      <td>0</td>\n",
       "    </tr>\n",
       "    <tr>\n",
       "      <th>51</th>\n",
       "      <td>Valencia</td>\n",
       "      <td>182772</td>\n",
       "      <td>0</td>\n",
       "      <td>-3</td>\n",
       "    </tr>\n",
       "    <tr>\n",
       "      <th>73</th>\n",
       "      <td>Valencia</td>\n",
       "      <td>911972</td>\n",
       "      <td>0</td>\n",
       "      <td>-1</td>\n",
       "    </tr>\n",
       "    <tr>\n",
       "      <th>95</th>\n",
       "      <td>Valencia</td>\n",
       "      <td>380038</td>\n",
       "      <td>0</td>\n",
       "      <td>-3</td>\n",
       "    </tr>\n",
       "  </tbody>\n",
       "</table>\n",
       "</div>"
      ],
      "text/plain": [
       "   filterName   imgId class  score\n",
       "7    Valencia  137059     0     -3\n",
       "29   Valencia  696485     0      0\n",
       "51   Valencia  182772     0     -3\n",
       "73   Valencia  911972     0     -1\n",
       "95   Valencia  380038     0     -3"
      ]
     },
     "execution_count": 8,
     "metadata": {},
     "output_type": "execute_result"
    }
   ],
   "source": [
    "image_score = image_score[image_score['filterName']==\"Valencia\"]\n",
    "image_score.head()"
   ]
  },
  {
   "cell_type": "code",
   "execution_count": 9,
   "metadata": {},
   "outputs": [
    {
     "data": {
      "text/html": [
       "<div>\n",
       "<style scoped>\n",
       "    .dataframe tbody tr th:only-of-type {\n",
       "        vertical-align: middle;\n",
       "    }\n",
       "\n",
       "    .dataframe tbody tr th {\n",
       "        vertical-align: top;\n",
       "    }\n",
       "\n",
       "    .dataframe thead th {\n",
       "        text-align: right;\n",
       "    }\n",
       "</style>\n",
       "<table border=\"1\" class=\"dataframe\">\n",
       "  <thead>\n",
       "    <tr style=\"text-align: right;\">\n",
       "      <th></th>\n",
       "      <th>filterName</th>\n",
       "      <th>imgId</th>\n",
       "      <th>class</th>\n",
       "      <th>score</th>\n",
       "    </tr>\n",
       "  </thead>\n",
       "  <tbody>\n",
       "    <tr>\n",
       "      <th>7</th>\n",
       "      <td>Valencia</td>\n",
       "      <td>137059</td>\n",
       "      <td>0</td>\n",
       "      <td>-3</td>\n",
       "    </tr>\n",
       "    <tr>\n",
       "      <th>51</th>\n",
       "      <td>Valencia</td>\n",
       "      <td>182772</td>\n",
       "      <td>0</td>\n",
       "      <td>-3</td>\n",
       "    </tr>\n",
       "    <tr>\n",
       "      <th>95</th>\n",
       "      <td>Valencia</td>\n",
       "      <td>380038</td>\n",
       "      <td>0</td>\n",
       "      <td>-3</td>\n",
       "    </tr>\n",
       "    <tr>\n",
       "      <th>139</th>\n",
       "      <td>Valencia</td>\n",
       "      <td>200444</td>\n",
       "      <td>0</td>\n",
       "      <td>-3</td>\n",
       "    </tr>\n",
       "    <tr>\n",
       "      <th>205</th>\n",
       "      <td>Valencia</td>\n",
       "      <td>818632</td>\n",
       "      <td>0</td>\n",
       "      <td>-3</td>\n",
       "    </tr>\n",
       "  </tbody>\n",
       "</table>\n",
       "</div>"
      ],
      "text/plain": [
       "    filterName   imgId class  score\n",
       "7     Valencia  137059     0     -3\n",
       "51    Valencia  182772     0     -3\n",
       "95    Valencia  380038     0     -3\n",
       "139   Valencia  200444     0     -3\n",
       "205   Valencia  818632     0     -3"
      ]
     },
     "execution_count": 9,
     "metadata": {},
     "output_type": "execute_result"
    }
   ],
   "source": [
    "image_score= image_score[image_score['score'].isin([-3,3])]\n",
    "image_score.head()"
   ]
  },
  {
   "cell_type": "code",
   "execution_count": 10,
   "metadata": {},
   "outputs": [
    {
     "data": {
      "text/plain": [
       "604"
      ]
     },
     "execution_count": 10,
     "metadata": {},
     "output_type": "execute_result"
    }
   ],
   "source": [
    "len(image_score)"
   ]
  },
  {
   "cell_type": "code",
   "execution_count": null,
   "metadata": {},
   "outputs": [],
   "source": [
    "comparison_picklef1= comparison_pickle[comparison_pickle['f1']==\"Valencia\"]\n",
    "comparison_picklef2=comparison_pickle= comparison_pickle[comparison_pickle['f1']==\"Valencia\"]"
   ]
  },
  {
   "cell_type": "code",
   "execution_count": null,
   "metadata": {},
   "outputs": [],
   "source": []
  },
  {
   "cell_type": "code",
   "execution_count": null,
   "metadata": {},
   "outputs": [],
   "source": []
  },
  {
   "cell_type": "code",
   "execution_count": null,
   "metadata": {},
   "outputs": [],
   "source": []
  },
  {
   "cell_type": "code",
   "execution_count": null,
   "metadata": {},
   "outputs": [],
   "source": []
  },
  {
   "cell_type": "code",
   "execution_count": null,
   "metadata": {},
   "outputs": [],
   "source": []
  },
  {
   "cell_type": "code",
   "execution_count": null,
   "metadata": {},
   "outputs": [],
   "source": []
  },
  {
   "cell_type": "code",
   "execution_count": null,
   "metadata": {},
   "outputs": [],
   "source": []
  },
  {
   "cell_type": "code",
   "execution_count": null,
   "metadata": {},
   "outputs": [],
   "source": []
  },
  {
   "cell_type": "code",
   "execution_count": null,
   "metadata": {},
   "outputs": [],
   "source": []
  },
  {
   "cell_type": "code",
   "execution_count": 30,
   "metadata": {},
   "outputs": [
    {
     "name": "stdout",
     "output_type": "stream",
     "text": [
      "28160\n",
      "42240\n"
     ]
    }
   ],
   "source": [
    "print(len(image_score['imgId']))\n",
    "print(len(comparison_pickle['imgId']))"
   ]
  },
  {
   "cell_type": "code",
   "execution_count": 31,
   "metadata": {
    "scrolled": true
   },
   "outputs": [
    {
     "data": {
      "text/html": [
       "<div>\n",
       "<style scoped>\n",
       "    .dataframe tbody tr th:only-of-type {\n",
       "        vertical-align: middle;\n",
       "    }\n",
       "\n",
       "    .dataframe tbody tr th {\n",
       "        vertical-align: top;\n",
       "    }\n",
       "\n",
       "    .dataframe thead th {\n",
       "        text-align: right;\n",
       "    }\n",
       "</style>\n",
       "<table border=\"1\" class=\"dataframe\">\n",
       "  <thead>\n",
       "    <tr style=\"text-align: right;\">\n",
       "      <th></th>\n",
       "      <th>filterName</th>\n",
       "      <th>imgId</th>\n",
       "      <th>class</th>\n",
       "      <th>score</th>\n",
       "    </tr>\n",
       "  </thead>\n",
       "  <tbody>\n",
       "    <tr>\n",
       "      <th>0</th>\n",
       "      <td>Brannan</td>\n",
       "      <td>137059</td>\n",
       "      <td>1</td>\n",
       "      <td>3</td>\n",
       "    </tr>\n",
       "    <tr>\n",
       "      <th>1</th>\n",
       "      <td>Willow</td>\n",
       "      <td>137059</td>\n",
       "      <td>0</td>\n",
       "      <td>-1</td>\n",
       "    </tr>\n",
       "    <tr>\n",
       "      <th>2</th>\n",
       "      <td>Mayfair</td>\n",
       "      <td>137059</td>\n",
       "      <td>1</td>\n",
       "      <td>3</td>\n",
       "    </tr>\n",
       "    <tr>\n",
       "      <th>3</th>\n",
       "      <td>Hudson</td>\n",
       "      <td>137059</td>\n",
       "      <td>0</td>\n",
       "      <td>-1</td>\n",
       "    </tr>\n",
       "    <tr>\n",
       "      <th>4</th>\n",
       "      <td>Gotham</td>\n",
       "      <td>137059</td>\n",
       "      <td>1</td>\n",
       "      <td>3</td>\n",
       "    </tr>\n",
       "  </tbody>\n",
       "</table>\n",
       "</div>"
      ],
      "text/plain": [
       "  filterName   imgId class  score\n",
       "0    Brannan  137059     1      3\n",
       "1     Willow  137059     0     -1\n",
       "2    Mayfair  137059     1      3\n",
       "3     Hudson  137059     0     -1\n",
       "4     Gotham  137059     1      3"
      ]
     },
     "execution_count": 31,
     "metadata": {},
     "output_type": "execute_result"
    }
   ],
   "source": [
    "image_score.head(n=5)"
   ]
  },
  {
   "cell_type": "code",
   "execution_count": 8,
   "metadata": {},
   "outputs": [
    {
     "name": "stdout",
     "output_type": "stream",
     "text": [
      "{'Sutro', 'Hudson', 'Amaro', 'Rise', '1977', 'Apollo', 'XProII', 'Nashville', 'Walden', 'Lofi', 'Earlybird', 'Willow', 'Origin', 'Hefe', 'Gotham', 'Sierra', 'Inkwell', 'Brannan', 'Valencia', 'Toaster', 'Mayfair', 'LordKevin', '.DS_Store', 'Poprocket'}\n"
     ]
    }
   ],
   "source": [
    "true_categories = set(os.listdir(\"./FACD_image\"))\n",
    "categories_f1 = set(comparison_pickle['f1'])\n",
    "categories_f2 = set(comparison_pickle['f2'])\n",
    "print(true_categories)"
   ]
  },
  {
   "cell_type": "code",
   "execution_count": 9,
   "metadata": {},
   "outputs": [
    {
     "name": "stdout",
     "output_type": "stream",
     "text": [
      "True\n",
      "{'.DS_Store', 'Origin'}\n"
     ]
    }
   ],
   "source": [
    "print(categories_f1 == categories_f2)\n",
    "print(true_categories - categories_f1)"
   ]
  },
  {
   "cell_type": "code",
   "execution_count": 10,
   "metadata": {},
   "outputs": [],
   "source": [
    "def find_image(category, image_id):\n",
    "    for file in os.listdir(\"./FACD_image/\"+ category):\n",
    "        if image_id in file:\n",
    "#             print(\"./FACD_image/\"+ category + \"/\" + str(image_id) + \".jpg\")\n",
    "            return \"./FACD_image/\"+ category + \"/\" + str(image_id) + \".jpg\""
   ]
  },
  {
   "cell_type": "markdown",
   "metadata": {},
   "source": [
    "Filter Aesthetic Comparison Dataset (FACD) contains 1,280 unfiltered images collected from the AVA dataset within 8 categories. It also includes 28,160 filtered images and 42,240 image pairs. "
   ]
  },
  {
   "cell_type": "code",
   "execution_count": 11,
   "metadata": {},
   "outputs": [
    {
     "name": "stdout",
     "output_type": "stream",
     "text": [
      "28160\n",
      "42240\n",
      "1280\n"
     ]
    }
   ],
   "source": [
    "print(len(image_score))\n",
    "print(len(comparison_pickle))\n",
    "print(len(os.listdir('./FACD_image/Origin')))"
   ]
  },
  {
   "cell_type": "code",
   "execution_count": 12,
   "metadata": {},
   "outputs": [],
   "source": [
    "f1 = comparison_pickle['f1']\n",
    "f2 = comparison_pickle['f2']\n",
    "image_id = comparison_pickle['imgId']\n",
    "f1_zip = list(zip(f1, image_id))\n",
    "f2_zip = list(zip(f2, image_id))"
   ]
  },
  {
   "cell_type": "code",
   "execution_count": null,
   "metadata": {},
   "outputs": [],
   "source": []
  },
  {
   "cell_type": "markdown",
   "metadata": {},
   "source": [
    "### abs_imgs, abs_labels, comp_imgs_1, comp_imgs_2, comp_labels = load_data(datasplit='train')"
   ]
  },
  {
   "cell_type": "code",
   "execution_count": 13,
   "metadata": {},
   "outputs": [
    {
     "data": {
      "text/plain": [
       "<function len(obj, /)>"
      ]
     },
     "execution_count": 13,
     "metadata": {},
     "output_type": "execute_result"
    }
   ],
   "source": [
    "comp_imgs_1 = [find_image(c, i) for c, i in f1_zip]\n",
    "len(comp_imgs_1)"
   ]
  },
  {
   "cell_type": "code",
   "execution_count": 14,
   "metadata": {},
   "outputs": [
    {
     "data": {
      "text/plain": [
       "42240"
      ]
     },
     "execution_count": 14,
     "metadata": {},
     "output_type": "execute_result"
    }
   ],
   "source": [
    "comp_imgs_2 = [find_image(c, i) for c, i in f2_zip]\n",
    "len(comp_imgs_2)"
   ]
  },
  {
   "cell_type": "markdown",
   "metadata": {},
   "source": [
    "(i,j, y): given items (i, j), y(i,j) = +1 indicates that i has a higher propensity to receive the absolute label yi = +1,\n",
    "compared to j. -1 otherwise."
   ]
  },
  {
   "cell_type": "code",
   "execution_count": 15,
   "metadata": {},
   "outputs": [
    {
     "name": "stdout",
     "output_type": "stream",
     "text": [
      "42240\n"
     ]
    }
   ],
   "source": [
    "comp_labels = [1 if i=='left' else -1 for i in comparison_pickle['ans']]\n",
    "print(len(comp_labels))"
   ]
  },
  {
   "cell_type": "code",
   "execution_count": 16,
   "metadata": {},
   "outputs": [
    {
     "name": "stdout",
     "output_type": "stream",
     "text": [
      "1280\n"
     ]
    }
   ],
   "source": [
    "abs_imgs = ['./FACD_image/Origin/' + file for file in os.listdir('./FACD_image/Origin')]\n",
    "print(len(abs_imgs))"
   ]
  },
  {
   "cell_type": "code",
   "execution_count": 14,
   "metadata": {},
   "outputs": [],
   "source": [
    "abs_image_class_map = {}\n",
    "for index, row in image_score.iterrows():\n",
    "    if row['imgId'] not in abs_image_class_map:\n",
    "        abs_image_class_map[row['imgId']] = row['class']"
   ]
  },
  {
   "cell_type": "code",
   "execution_count": 15,
   "metadata": {},
   "outputs": [],
   "source": [
    "abs_labels = [abs_image_class_map[file[:-4]] for file in os.listdir('./FACD_image/Origin')]"
   ]
  },
  {
   "cell_type": "code",
   "execution_count": 21,
   "metadata": {},
   "outputs": [],
   "source": [
    "def image_to_tensor(file_path_list, size = (3, 224, 224)):\n",
    "    output = []\n",
    "    for file_path in file_path_list:\n",
    "        im= np.asarray(Image.open(file_path).convert('RGB'))\n",
    "        im=cv2.resize(im, dsize=(size[1],size[2]))\n",
    "#         print(im.shape)\n",
    "        im = np.reshape(im, size)\n",
    "        output.append(im)\n",
    "    return output"
   ]
  },
  {
   "cell_type": "code",
   "execution_count": 22,
   "metadata": {},
   "outputs": [
    {
     "name": "stderr",
     "output_type": "stream",
     "text": [
      "/Users/dipika/.pyenv/versions/3.7.9/envs/home/lib/python3.7/site-packages/PIL/TiffImagePlugin.py:771: UserWarning: Possibly corrupt EXIF data.  Expecting to read 19273 bytes but only got 816. Skipping tag 700\n",
      "  \"Possibly corrupt EXIF data.  \"\n",
      "/Users/dipika/.pyenv/versions/3.7.9/envs/home/lib/python3.7/site-packages/PIL/TiffImagePlugin.py:771: UserWarning: Possibly corrupt EXIF data.  Expecting to read 5140 bytes but only got 816. Skipping tag 34377\n",
      "  \"Possibly corrupt EXIF data.  \"\n",
      "/Users/dipika/.pyenv/versions/3.7.9/envs/home/lib/python3.7/site-packages/PIL/TiffImagePlugin.py:771: UserWarning: Possibly corrupt EXIF data.  Expecting to read 3144 bytes but only got 816. Skipping tag 34675\n",
      "  \"Possibly corrupt EXIF data.  \"\n"
     ]
    }
   ],
   "source": [
    "a = image_to_tensor(abs_imgs)\n"
   ]
  },
  {
   "cell_type": "code",
   "execution_count": 23,
   "metadata": {},
   "outputs": [
    {
     "data": {
      "text/plain": [
       "(1280, 3, 224, 224)"
      ]
     },
     "execution_count": 23,
     "metadata": {},
     "output_type": "execute_result"
    }
   ],
   "source": [
    "np.shape(a)"
   ]
  },
  {
   "cell_type": "markdown",
   "metadata": {},
   "source": [
    "# Should There Be 8 Classes\n"
   ]
  },
  {
   "cell_type": "code",
   "execution_count": 26,
   "metadata": {},
   "outputs": [],
   "source": [
    "pickle_1 = open(\"FACD_metadata/pairwise_comparison.pkl\",\"rb\")\n",
    "pickle_2 = open(\"FACD_metadata/image_score.pkl\",\"rb\")\n",
    "comparison_pickle = pickle.load(pickle_1)\n",
    "image_score = pickle.load(pickle_2)"
   ]
  },
  {
   "cell_type": "code",
   "execution_count": 27,
   "metadata": {},
   "outputs": [
    {
     "data": {
      "text/html": [
       "<div>\n",
       "<style scoped>\n",
       "    .dataframe tbody tr th:only-of-type {\n",
       "        vertical-align: middle;\n",
       "    }\n",
       "\n",
       "    .dataframe tbody tr th {\n",
       "        vertical-align: top;\n",
       "    }\n",
       "\n",
       "    .dataframe thead th {\n",
       "        text-align: right;\n",
       "    }\n",
       "</style>\n",
       "<table border=\"1\" class=\"dataframe\">\n",
       "  <thead>\n",
       "    <tr style=\"text-align: right;\">\n",
       "      <th></th>\n",
       "      <th>category</th>\n",
       "      <th>f1</th>\n",
       "      <th>f2</th>\n",
       "      <th>workerId</th>\n",
       "      <th>passDup</th>\n",
       "      <th>imgId</th>\n",
       "      <th>ans</th>\n",
       "    </tr>\n",
       "  </thead>\n",
       "  <tbody>\n",
       "    <tr>\n",
       "      <th>0</th>\n",
       "      <td>2</td>\n",
       "      <td>Willow</td>\n",
       "      <td>1977</td>\n",
       "      <td>A34M93NJC830DP</td>\n",
       "      <td>True</td>\n",
       "      <td>755006</td>\n",
       "      <td>right</td>\n",
       "    </tr>\n",
       "    <tr>\n",
       "      <th>1</th>\n",
       "      <td>1</td>\n",
       "      <td>Toaster</td>\n",
       "      <td>Valencia</td>\n",
       "      <td>A34M93NJC830DP</td>\n",
       "      <td>True</td>\n",
       "      <td>451445</td>\n",
       "      <td>right</td>\n",
       "    </tr>\n",
       "    <tr>\n",
       "      <th>2</th>\n",
       "      <td>3</td>\n",
       "      <td>Apollo</td>\n",
       "      <td>Brannan</td>\n",
       "      <td>A34M93NJC830DP</td>\n",
       "      <td>True</td>\n",
       "      <td>749452</td>\n",
       "      <td>right</td>\n",
       "    </tr>\n",
       "    <tr>\n",
       "      <th>3</th>\n",
       "      <td>4</td>\n",
       "      <td>Sutro</td>\n",
       "      <td>Walden</td>\n",
       "      <td>A1PCTP576OW35H</td>\n",
       "      <td>True</td>\n",
       "      <td>653868</td>\n",
       "      <td>left</td>\n",
       "    </tr>\n",
       "    <tr>\n",
       "      <th>4</th>\n",
       "      <td>0</td>\n",
       "      <td>1977</td>\n",
       "      <td>Brannan</td>\n",
       "      <td>A1PCTP576OW35H</td>\n",
       "      <td>True</td>\n",
       "      <td>55771</td>\n",
       "      <td>left</td>\n",
       "    </tr>\n",
       "  </tbody>\n",
       "</table>\n",
       "</div>"
      ],
      "text/plain": [
       "   category       f1        f2        workerId  passDup   imgId    ans\n",
       "0         2   Willow      1977  A34M93NJC830DP     True  755006  right\n",
       "1         1  Toaster  Valencia  A34M93NJC830DP     True  451445  right\n",
       "2         3   Apollo   Brannan  A34M93NJC830DP     True  749452  right\n",
       "3         4    Sutro    Walden  A1PCTP576OW35H     True  653868   left\n",
       "4         0     1977   Brannan  A1PCTP576OW35H     True   55771   left"
      ]
     },
     "execution_count": 27,
     "metadata": {},
     "output_type": "execute_result"
    }
   ],
   "source": [
    "comparison_pickle = pd.DataFrame(comparison_pickle)\n",
    "image_score = pd.DataFrame(image_score)\n",
    "comparison_pickle.head(n=5)"
   ]
  },
  {
   "cell_type": "code",
   "execution_count": 28,
   "metadata": {},
   "outputs": [
    {
     "data": {
      "text/html": [
       "<div>\n",
       "<style scoped>\n",
       "    .dataframe tbody tr th:only-of-type {\n",
       "        vertical-align: middle;\n",
       "    }\n",
       "\n",
       "    .dataframe tbody tr th {\n",
       "        vertical-align: top;\n",
       "    }\n",
       "\n",
       "    .dataframe thead th {\n",
       "        text-align: right;\n",
       "    }\n",
       "</style>\n",
       "<table border=\"1\" class=\"dataframe\">\n",
       "  <thead>\n",
       "    <tr style=\"text-align: right;\">\n",
       "      <th></th>\n",
       "      <th>filterName</th>\n",
       "      <th>imgId</th>\n",
       "      <th>class</th>\n",
       "      <th>score</th>\n",
       "    </tr>\n",
       "  </thead>\n",
       "  <tbody>\n",
       "    <tr>\n",
       "      <th>0</th>\n",
       "      <td>Brannan</td>\n",
       "      <td>137059</td>\n",
       "      <td>1</td>\n",
       "      <td>3</td>\n",
       "    </tr>\n",
       "    <tr>\n",
       "      <th>1</th>\n",
       "      <td>Willow</td>\n",
       "      <td>137059</td>\n",
       "      <td>0</td>\n",
       "      <td>-1</td>\n",
       "    </tr>\n",
       "    <tr>\n",
       "      <th>2</th>\n",
       "      <td>Mayfair</td>\n",
       "      <td>137059</td>\n",
       "      <td>1</td>\n",
       "      <td>3</td>\n",
       "    </tr>\n",
       "    <tr>\n",
       "      <th>3</th>\n",
       "      <td>Hudson</td>\n",
       "      <td>137059</td>\n",
       "      <td>0</td>\n",
       "      <td>-1</td>\n",
       "    </tr>\n",
       "    <tr>\n",
       "      <th>4</th>\n",
       "      <td>Gotham</td>\n",
       "      <td>137059</td>\n",
       "      <td>1</td>\n",
       "      <td>3</td>\n",
       "    </tr>\n",
       "  </tbody>\n",
       "</table>\n",
       "</div>"
      ],
      "text/plain": [
       "  filterName   imgId class  score\n",
       "0    Brannan  137059     1      3\n",
       "1     Willow  137059     0     -1\n",
       "2    Mayfair  137059     1      3\n",
       "3     Hudson  137059     0     -1\n",
       "4     Gotham  137059     1      3"
      ]
     },
     "execution_count": 28,
     "metadata": {},
     "output_type": "execute_result"
    }
   ],
   "source": [
    "image_score.head(n=5)"
   ]
  },
  {
   "cell_type": "code",
   "execution_count": 29,
   "metadata": {},
   "outputs": [
    {
     "name": "stdout",
     "output_type": "stream",
     "text": [
      "{'Sutro', 'Earlybird', 'Apollo', 'Mayfair', 'Hefe', 'Origin', 'Poprocket', 'Lofi', 'Brannan', 'LordKevin', 'Sierra', 'Valencia', 'Toaster', 'Nashville', 'Hudson', '1977', 'XProII', 'Rise', 'Walden', 'Gotham', 'Willow', '.DS_Store', 'Amaro', 'Inkwell'}\n"
     ]
    }
   ],
   "source": [
    "true_categories = set(os.listdir(\"./FACD_image\"))\n",
    "categories_f1 = set(comparison_pickle['f1'])\n",
    "categories_f2 = set(comparison_pickle['f2'])\n",
    "print(true_categories)"
   ]
  },
  {
   "cell_type": "code",
   "execution_count": 30,
   "metadata": {},
   "outputs": [
    {
     "name": "stdout",
     "output_type": "stream",
     "text": [
      "True\n",
      "{'Origin', '.DS_Store'}\n"
     ]
    }
   ],
   "source": [
    "print(categories_f1 == categories_f2)\n",
    "print(true_categories - categories_f1)"
   ]
  },
  {
   "cell_type": "code",
   "execution_count": 31,
   "metadata": {},
   "outputs": [],
   "source": [
    "def find_image(category, image_id):\n",
    "    for file in os.listdir(\"./FACD_image/\"+ category):\n",
    "        if image_id in file:\n",
    "#             print(\"./FACD_image/\"+ category + \"/\" + str(image_id) + \".jpg\")\n",
    "            return \"./FACD_image/\"+ category + \"/\" + str(image_id) + \".jpg\""
   ]
  },
  {
   "cell_type": "code",
   "execution_count": 32,
   "metadata": {},
   "outputs": [
    {
     "name": "stdout",
     "output_type": "stream",
     "text": [
      "28160\n",
      "42240\n",
      "1280\n"
     ]
    }
   ],
   "source": [
    "print(len(image_score))\n",
    "print(len(comparison_pickle))\n",
    "print(len(os.listdir('./FACD_image/Origin')))"
   ]
  },
  {
   "cell_type": "code",
   "execution_count": 33,
   "metadata": {},
   "outputs": [],
   "source": [
    "f1 = comparison_pickle['f1']\n",
    "f2 = comparison_pickle['f2']\n",
    "image_id = comparison_pickle['imgId']\n",
    "f1_zip = list(zip(f1, image_id))\n",
    "f2_zip = list(zip(f2, image_id))"
   ]
  },
  {
   "cell_type": "code",
   "execution_count": 37,
   "metadata": {},
   "outputs": [
    {
     "ename": "KeyboardInterrupt",
     "evalue": "",
     "output_type": "error",
     "traceback": [
      "\u001b[0;31m---------------------------------------------------------------------------\u001b[0m",
      "\u001b[0;31mKeyboardInterrupt\u001b[0m                         Traceback (most recent call last)",
      "\u001b[0;32m<ipython-input-37-4d3c86dca91c>\u001b[0m in \u001b[0;36m<module>\u001b[0;34m\u001b[0m\n\u001b[0;32m----> 1\u001b[0;31m \u001b[0mcomp_imgs_1\u001b[0m \u001b[0;34m=\u001b[0m \u001b[0;34m[\u001b[0m\u001b[0mfind_image\u001b[0m\u001b[0;34m(\u001b[0m\u001b[0mc\u001b[0m\u001b[0;34m,\u001b[0m \u001b[0mi\u001b[0m\u001b[0;34m)\u001b[0m \u001b[0;32mfor\u001b[0m \u001b[0mc\u001b[0m\u001b[0;34m,\u001b[0m \u001b[0mi\u001b[0m \u001b[0;32min\u001b[0m \u001b[0mf1_zip\u001b[0m\u001b[0;34m]\u001b[0m\u001b[0;34m[\u001b[0m\u001b[0;34m:\u001b[0m\u001b[0;36m4\u001b[0m\u001b[0;34m]\u001b[0m\u001b[0;34m\u001b[0m\u001b[0;34m\u001b[0m\u001b[0m\n\u001b[0m\u001b[1;32m      2\u001b[0m \u001b[0mcomp_imgs_2\u001b[0m \u001b[0;34m=\u001b[0m \u001b[0;34m[\u001b[0m\u001b[0mfind_image\u001b[0m\u001b[0;34m(\u001b[0m\u001b[0mc\u001b[0m\u001b[0;34m,\u001b[0m \u001b[0mi\u001b[0m\u001b[0;34m)\u001b[0m \u001b[0;32mfor\u001b[0m \u001b[0mc\u001b[0m\u001b[0;34m,\u001b[0m \u001b[0mi\u001b[0m \u001b[0;32min\u001b[0m \u001b[0mf2_zip\u001b[0m\u001b[0;34m]\u001b[0m\u001b[0;34m[\u001b[0m\u001b[0;34m:\u001b[0m\u001b[0;36m4\u001b[0m\u001b[0;34m]\u001b[0m\u001b[0;34m\u001b[0m\u001b[0;34m\u001b[0m\u001b[0m\n\u001b[1;32m      3\u001b[0m \u001b[0mcomp_labels\u001b[0m \u001b[0;34m=\u001b[0m \u001b[0;34m[\u001b[0m\u001b[0;36m1\u001b[0m \u001b[0;32mif\u001b[0m \u001b[0mi\u001b[0m\u001b[0;34m==\u001b[0m\u001b[0;34m'left'\u001b[0m \u001b[0;32melse\u001b[0m \u001b[0;34m-\u001b[0m\u001b[0;36m1\u001b[0m \u001b[0;32mfor\u001b[0m \u001b[0mi\u001b[0m \u001b[0;32min\u001b[0m \u001b[0mcomparison_pickle\u001b[0m\u001b[0;34m[\u001b[0m\u001b[0;34m'ans'\u001b[0m\u001b[0;34m]\u001b[0m\u001b[0;34m]\u001b[0m\u001b[0;34m[\u001b[0m\u001b[0;34m:\u001b[0m\u001b[0;36m4\u001b[0m\u001b[0;34m]\u001b[0m\u001b[0;34m\u001b[0m\u001b[0;34m\u001b[0m\u001b[0m\n",
      "\u001b[0;32m<ipython-input-37-4d3c86dca91c>\u001b[0m in \u001b[0;36m<listcomp>\u001b[0;34m(.0)\u001b[0m\n\u001b[0;32m----> 1\u001b[0;31m \u001b[0mcomp_imgs_1\u001b[0m \u001b[0;34m=\u001b[0m \u001b[0;34m[\u001b[0m\u001b[0mfind_image\u001b[0m\u001b[0;34m(\u001b[0m\u001b[0mc\u001b[0m\u001b[0;34m,\u001b[0m \u001b[0mi\u001b[0m\u001b[0;34m)\u001b[0m \u001b[0;32mfor\u001b[0m \u001b[0mc\u001b[0m\u001b[0;34m,\u001b[0m \u001b[0mi\u001b[0m \u001b[0;32min\u001b[0m \u001b[0mf1_zip\u001b[0m\u001b[0;34m]\u001b[0m\u001b[0;34m[\u001b[0m\u001b[0;34m:\u001b[0m\u001b[0;36m4\u001b[0m\u001b[0;34m]\u001b[0m\u001b[0;34m\u001b[0m\u001b[0;34m\u001b[0m\u001b[0m\n\u001b[0m\u001b[1;32m      2\u001b[0m \u001b[0mcomp_imgs_2\u001b[0m \u001b[0;34m=\u001b[0m \u001b[0;34m[\u001b[0m\u001b[0mfind_image\u001b[0m\u001b[0;34m(\u001b[0m\u001b[0mc\u001b[0m\u001b[0;34m,\u001b[0m \u001b[0mi\u001b[0m\u001b[0;34m)\u001b[0m \u001b[0;32mfor\u001b[0m \u001b[0mc\u001b[0m\u001b[0;34m,\u001b[0m \u001b[0mi\u001b[0m \u001b[0;32min\u001b[0m \u001b[0mf2_zip\u001b[0m\u001b[0;34m]\u001b[0m\u001b[0;34m[\u001b[0m\u001b[0;34m:\u001b[0m\u001b[0;36m4\u001b[0m\u001b[0;34m]\u001b[0m\u001b[0;34m\u001b[0m\u001b[0;34m\u001b[0m\u001b[0m\n\u001b[1;32m      3\u001b[0m \u001b[0mcomp_labels\u001b[0m \u001b[0;34m=\u001b[0m \u001b[0;34m[\u001b[0m\u001b[0;36m1\u001b[0m \u001b[0;32mif\u001b[0m \u001b[0mi\u001b[0m\u001b[0;34m==\u001b[0m\u001b[0;34m'left'\u001b[0m \u001b[0;32melse\u001b[0m \u001b[0;34m-\u001b[0m\u001b[0;36m1\u001b[0m \u001b[0;32mfor\u001b[0m \u001b[0mi\u001b[0m \u001b[0;32min\u001b[0m \u001b[0mcomparison_pickle\u001b[0m\u001b[0;34m[\u001b[0m\u001b[0;34m'ans'\u001b[0m\u001b[0;34m]\u001b[0m\u001b[0;34m]\u001b[0m\u001b[0;34m[\u001b[0m\u001b[0;34m:\u001b[0m\u001b[0;36m4\u001b[0m\u001b[0;34m]\u001b[0m\u001b[0;34m\u001b[0m\u001b[0;34m\u001b[0m\u001b[0m\n",
      "\u001b[0;32m<ipython-input-31-271ca934d044>\u001b[0m in \u001b[0;36mfind_image\u001b[0;34m(category, image_id)\u001b[0m\n\u001b[1;32m      1\u001b[0m \u001b[0;32mdef\u001b[0m \u001b[0mfind_image\u001b[0m\u001b[0;34m(\u001b[0m\u001b[0mcategory\u001b[0m\u001b[0;34m,\u001b[0m \u001b[0mimage_id\u001b[0m\u001b[0;34m)\u001b[0m\u001b[0;34m:\u001b[0m\u001b[0;34m\u001b[0m\u001b[0;34m\u001b[0m\u001b[0m\n\u001b[0;32m----> 2\u001b[0;31m     \u001b[0;32mfor\u001b[0m \u001b[0mfile\u001b[0m \u001b[0;32min\u001b[0m \u001b[0mos\u001b[0m\u001b[0;34m.\u001b[0m\u001b[0mlistdir\u001b[0m\u001b[0;34m(\u001b[0m\u001b[0;34m\"./FACD_image/\"\u001b[0m\u001b[0;34m+\u001b[0m \u001b[0mcategory\u001b[0m\u001b[0;34m)\u001b[0m\u001b[0;34m:\u001b[0m\u001b[0;34m\u001b[0m\u001b[0;34m\u001b[0m\u001b[0m\n\u001b[0m\u001b[1;32m      3\u001b[0m         \u001b[0;32mif\u001b[0m \u001b[0mimage_id\u001b[0m \u001b[0;32min\u001b[0m \u001b[0mfile\u001b[0m\u001b[0;34m:\u001b[0m\u001b[0;34m\u001b[0m\u001b[0;34m\u001b[0m\u001b[0m\n\u001b[1;32m      4\u001b[0m \u001b[0;31m#             print(\"./FACD_image/\"+ category + \"/\" + str(image_id) + \".jpg\")\u001b[0m\u001b[0;34m\u001b[0m\u001b[0;34m\u001b[0m\u001b[0;34m\u001b[0m\u001b[0m\n\u001b[1;32m      5\u001b[0m             \u001b[0;32mreturn\u001b[0m \u001b[0;34m\"./FACD_image/\"\u001b[0m\u001b[0;34m+\u001b[0m \u001b[0mcategory\u001b[0m \u001b[0;34m+\u001b[0m \u001b[0;34m\"/\"\u001b[0m \u001b[0;34m+\u001b[0m \u001b[0mstr\u001b[0m\u001b[0;34m(\u001b[0m\u001b[0mimage_id\u001b[0m\u001b[0;34m)\u001b[0m \u001b[0;34m+\u001b[0m \u001b[0;34m\".jpg\"\u001b[0m\u001b[0;34m\u001b[0m\u001b[0;34m\u001b[0m\u001b[0m\n",
      "\u001b[0;31mKeyboardInterrupt\u001b[0m: "
     ]
    }
   ],
   "source": [
    "comp_imgs_1 = [find_image(c, i) for c, i in f1_zip][:4]\n",
    "comp_imgs_2 = [find_image(c, i) for c, i in f2_zip][:4]\n",
    "comp_labels = [1 if i=='left' else -1 for i in comparison_pickle['ans']][:4]"
   ]
  },
  {
   "cell_type": "code",
   "execution_count": 38,
   "metadata": {},
   "outputs": [],
   "source": [
    "abs_imgs = ['./FACD_image/Origin/' + file for file in os.listdir('./FACD_image/Origin')]"
   ]
  },
  {
   "cell_type": "code",
   "execution_count": 39,
   "metadata": {},
   "outputs": [],
   "source": [
    "abs_image_class_map = {}\n",
    "for index, row in image_score.iterrows():\n",
    "    if row['imgId'] not in abs_image_class_map:\n",
    "        abs_image_class_map[row['imgId']] = row['filterName']"
   ]
  },
  {
   "cell_type": "code",
   "execution_count": 50,
   "metadata": {},
   "outputs": [
    {
     "data": {
      "text/plain": [
       "{'Brannan'}"
      ]
     },
     "execution_count": 50,
     "metadata": {},
     "output_type": "execute_result"
    }
   ],
   "source": [
    "abs_labels = [abs_image_class_map[file[:-4]] for file in os.listdir('./FACD_image/Origin')]\n",
    "set(abs_labels)"
   ]
  },
  {
   "cell_type": "code",
   "execution_count": null,
   "metadata": {},
   "outputs": [],
   "source": []
  },
  {
   "cell_type": "code",
   "execution_count": null,
   "metadata": {},
   "outputs": [],
   "source": []
  },
  {
   "cell_type": "code",
   "execution_count": null,
   "metadata": {},
   "outputs": [],
   "source": []
  },
  {
   "cell_type": "markdown",
   "metadata": {},
   "source": [
    "# OTHER"
   ]
  },
  {
   "cell_type": "code",
   "execution_count": 5,
   "metadata": {},
   "outputs": [],
   "source": [
    "# def load_images(image_size=32, batch_size=64, root=\"../images\"):\n",
    "#     transform = transforms.Compose([\n",
    "#         transforms.Resize(32),\n",
    "#         transforms.ToTensor(),\n",
    "#         transforms.Normalize((0.5, 0.5, 0.5), (0.5, 0.5, 0.5))])\n",
    "\n",
    "#     train_set = datasets.ImageFolder(root=root, train=True, transform=transform)\n",
    "#     train_loader = torch.utils.data.DataLoader(train_set, batch_size=batch_size, shuffle=True, num_workers=2)\n",
    "\n",
    "#     return train_loader\n",
    "\n",
    "def load_data(path):\n",
    "    train_dataset = torchvision.datasets.ImageFolder(\n",
    "        root=path,\n",
    "        transform=transforms.Compose([\n",
    "        transforms.Resize([512,512]),\n",
    "        transforms.ToTensor()])\n",
    "    )\n",
    "    train_loader = torch.utils.data.DataLoader(\n",
    "        train_dataset,\n",
    "        batch_size=1,\n",
    "        num_workers=0,\n",
    "        shuffle=True\n",
    "    )\n",
    "    return train_loader\n",
    "\n",
    "def create_googlenet(input):\n",
    "    model = models.googlenet(pretrained=True)\n",
    "    return model"
   ]
  },
  {
   "cell_type": "code",
   "execution_count": 6,
   "metadata": {},
   "outputs": [],
   "source": [
    "path = \"FACD_image\"\n",
    "data_loader = load_data(path)"
   ]
  },
  {
   "cell_type": "code",
   "execution_count": 7,
   "metadata": {},
   "outputs": [
    {
     "name": "stdout",
     "output_type": "stream",
     "text": [
      "<torch.utils.data.dataloader.DataLoader object at 0x103cf2150>\n",
      "tensor([20])\n",
      "2\n",
      "torch.Size([1, 3, 512, 512])\n"
     ]
    }
   ],
   "source": [
    "print(data_loader)\n",
    "for i in data_loader:\n",
    "    print(i[1])\n",
    "    print(len(i))\n",
    "    print(np.shape(i[0]))\n",
    "    break"
   ]
  },
  {
   "cell_type": "code",
   "execution_count": 8,
   "metadata": {},
   "outputs": [],
   "source": [
    "import torchvision.models as models"
   ]
  },
  {
   "cell_type": "code",
   "execution_count": 9,
   "metadata": {},
   "outputs": [],
   "source": [
    "googlenet = models.googlenet(pretrained=True)"
   ]
  },
  {
   "cell_type": "code",
   "execution_count": 10,
   "metadata": {},
   "outputs": [
    {
     "name": "stdout",
     "output_type": "stream",
     "text": [
      "tensor([-3.1899e-02,  3.5153e-01,  1.8458e-01, -1.4896e-01, -4.6124e-01,\n",
      "        -8.4455e-01, -5.1574e-01, -1.9230e-01, -2.2986e-02, -5.6370e-01,\n",
      "        -5.2641e-01, -9.4004e-01, -4.1236e-01, -4.1846e-01, -9.0512e-01,\n",
      "        -1.3300e+00, -1.1582e+00,  7.6318e-02, -2.4474e-01, -5.8722e-01,\n",
      "        -2.4835e-01, -4.3553e-01, -1.5566e-01, -3.8703e-01,  3.9863e-01,\n",
      "        -1.8854e-01, -5.7036e-01, -6.9493e-01,  2.0408e-01, -1.9567e-01,\n",
      "         4.0233e-03, -1.2297e-01,  6.0439e-02, -1.4385e-01, -1.5953e-01,\n",
      "        -2.5152e-01, -2.2263e-01, -3.2749e-01, -2.0231e-03, -4.4885e-01,\n",
      "        -6.3140e-01, -3.8229e-01, -3.2429e-01, -2.5189e-01, -1.7986e-01,\n",
      "         1.9626e-01, -2.5517e-01, -7.5576e-01, -2.8026e-01, -4.6869e-02,\n",
      "        -1.8780e-01,  3.6231e-01, -3.7293e-01,  1.4561e-01, -5.8026e-01,\n",
      "        -1.7333e-01, -6.4085e-02, -3.8692e-01,  9.3555e-02, -4.0926e-01,\n",
      "         2.3060e-01,  7.3190e-02,  2.1534e-01,  2.5186e-01,  2.5822e-01,\n",
      "         1.2012e-01, -1.8018e-01, -9.2184e-02, -3.3375e-01, -6.8629e-01,\n",
      "        -6.8815e-01, -3.6993e-01, -4.6026e-01, -1.5116e-01, -4.5451e-01,\n",
      "        -4.0156e-01, -3.0474e-01, -5.8658e-01, -6.9695e-01,  3.8091e-02,\n",
      "         1.5819e-01, -2.7413e-01, -2.7294e-02, -3.2804e-01,  1.2987e-01,\n",
      "         1.4578e-01,  2.5855e-01,  2.6234e-01,  5.4361e-02, -3.8346e-01,\n",
      "        -8.0814e-02, -8.5003e-02, -7.3018e-01, -1.7494e-01,  1.2578e-01,\n",
      "        -9.3762e-01,  5.2830e-01, -3.7629e-01, -1.0007e+00, -1.5904e-01,\n",
      "        -5.0144e-02, -5.6353e-02, -3.9350e-01, -4.0664e-01, -6.0348e-01,\n",
      "        -2.5934e-01, -1.7158e-01,  1.4912e-01,  8.3846e-02, -3.9275e-01,\n",
      "        -5.1712e-01, -1.6972e-01,  1.0486e-02,  1.0885e-01,  2.8384e-02,\n",
      "        -3.0210e-01, -5.3572e-01,  4.0787e-01,  1.5602e-01,  7.6027e-02,\n",
      "        -3.7577e-01,  4.7412e-01,  3.3795e-01,  1.8155e-01,  1.0127e+00,\n",
      "        -3.3537e-01,  2.9155e-01, -2.9660e-01, -5.2102e-01,  2.5216e-01,\n",
      "        -3.2744e-01, -1.6804e-01,  1.2603e-01, -2.8881e-01,  4.7273e-01,\n",
      "        -5.1981e-01, -1.4903e-01,  2.6106e-02,  7.1104e-02, -7.7297e-01,\n",
      "         4.6176e-01, -2.4268e-01, -4.5488e-02, -8.9671e-02, -3.1367e-01,\n",
      "        -3.5122e-01,  4.0028e-01, -8.4609e-02, -4.5422e-01, -2.9949e-01,\n",
      "         4.3972e-01,  4.8675e-02,  8.0805e-02,  2.1589e-01,  3.9171e-01,\n",
      "         3.9578e-01, -2.2291e-01, -4.1945e-01, -3.8287e-01,  5.6198e-02,\n",
      "        -2.6875e-01, -5.1652e-01, -5.0202e-01, -8.6760e-02, -1.2121e-01,\n",
      "        -1.3266e-01, -4.1217e-01, -2.5182e-01, -1.4026e-01, -3.7838e-01,\n",
      "         7.1080e-02,  1.8821e-01,  2.4141e-01, -3.1081e-01, -2.7297e-02,\n",
      "        -1.7376e-01, -2.4084e-01,  1.0551e-01,  1.9966e-01,  4.2668e-01,\n",
      "         4.8727e-01, -3.2980e-01,  9.3471e-02,  1.9935e-01, -4.9206e-02,\n",
      "         1.9047e-01, -4.3793e-01, -3.5533e-01, -3.2562e-01, -1.3586e-01,\n",
      "         7.5144e-02, -3.8426e-01,  1.1089e-01, -2.8762e-02, -1.3554e-01,\n",
      "         2.7189e-01,  4.4355e-02,  1.8145e-01,  1.5674e-01, -4.2497e-01,\n",
      "         3.4366e-01, -4.1245e-01,  1.8819e-01, -9.0925e-02,  5.4363e-01,\n",
      "         1.7823e-01, -1.0693e-02, -3.4849e-01,  1.1442e-01, -2.3969e-01,\n",
      "        -9.6401e-02, -2.6052e-02,  2.1922e-02, -7.7081e-01, -4.2705e-01,\n",
      "        -2.9855e-01,  2.8627e-02, -3.3730e-01, -8.0316e-01, -1.0476e-01,\n",
      "        -1.9154e-01, -6.7608e-01, -2.7071e-01, -2.5652e-01, -3.7386e-01,\n",
      "        -3.6265e-01, -2.7919e-01, -4.3905e-01,  1.1234e-02, -1.7901e-02,\n",
      "        -3.5908e-01,  1.6617e-01, -2.2854e-01,  1.8634e-01, -2.1749e-01,\n",
      "        -6.7022e-01,  1.5239e-04, -2.1880e-01, -1.1624e-01, -2.7896e-01,\n",
      "        -2.5262e-01, -3.5326e-01,  3.1201e-01, -2.8997e-02, -4.1649e-01,\n",
      "         2.7256e-01,  3.8061e-01, -3.0849e-01, -3.5630e-01, -1.8916e-01,\n",
      "        -3.2854e-01, -1.4528e-01, -2.8136e-01, -1.0355e-01,  2.9991e-01,\n",
      "        -5.1507e-01, -2.4862e-01, -6.5560e-02, -4.6634e-01, -3.0151e-01,\n",
      "        -1.7600e-01, -1.9680e-02, -1.8304e-02, -2.8768e-01, -7.6737e-01,\n",
      "        -1.9409e-01, -4.4050e-01, -4.9207e-01,  3.5955e-01, -3.3080e-01,\n",
      "        -6.8392e-01, -1.8129e-01, -4.5429e-01, -1.9756e-01, -8.7469e-01,\n",
      "        -3.4930e-02, -1.3087e-01, -6.9020e-01, -6.1345e-01, -9.4356e-02,\n",
      "        -5.1327e-01, -1.8143e-02,  2.5251e-01,  9.1582e-03, -4.8966e-01,\n",
      "         4.2962e-01, -1.9703e-01, -1.0554e-01, -2.9525e-01, -2.1106e-01,\n",
      "         4.0927e-01, -1.9562e-01, -4.9606e-02, -2.1727e-01, -3.8644e-01,\n",
      "        -6.0697e-02, -4.2660e-01, -3.4768e-01, -4.7983e-01, -2.9457e-01,\n",
      "        -7.4321e-01, -1.1763e+00, -6.3749e-01, -4.4515e-01, -1.0887e+00,\n",
      "        -4.2468e-01, -3.5715e-01, -3.9887e-01, -3.4106e-01, -7.1725e-01,\n",
      "        -6.3223e-01, -8.5024e-02, -5.6171e-01, -1.5853e-01, -9.8604e-02,\n",
      "        -2.4839e-01, -3.5934e-01, -2.0597e-01, -2.9808e-01, -5.9525e-01,\n",
      "        -8.5438e-01, -4.9812e-01, -8.7627e-01, -4.2618e-01, -3.8475e-01,\n",
      "        -8.1506e-01, -3.1203e-01,  2.6654e-01,  1.0341e-01, -9.1373e-02,\n",
      "        -3.4587e-01, -6.7161e-01, -1.0096e-01,  3.0825e-01, -2.1791e-01,\n",
      "        -7.7029e-01, -4.9096e-01, -8.0431e-02,  1.7814e-01, -1.8712e-01,\n",
      "         2.1624e-01, -7.9682e-02,  2.2429e-01, -4.3875e-01, -4.5068e-01,\n",
      "        -9.4431e-02, -4.5425e-01, -3.3577e-01,  7.6045e-02, -4.1294e-01,\n",
      "        -3.3173e-01, -2.9825e-01, -1.3093e-01, -1.5247e-01, -2.0050e-01,\n",
      "        -4.1775e-01,  2.3174e-01, -1.3371e-01,  9.6752e-02,  2.0448e-01,\n",
      "         7.2578e-01, -4.3486e-01,  1.6094e-01,  3.1659e-01, -2.8674e-01,\n",
      "        -3.3388e-01, -4.8246e-02,  1.6348e-01, -5.6008e-01, -6.6487e-02,\n",
      "         7.1578e-02, -1.9058e-01, -8.9008e-01, -4.3838e-01,  4.3358e-02,\n",
      "         3.3342e-01, -3.3986e-01,  4.6913e-01,  1.2181e-01, -9.8567e-02,\n",
      "        -3.1651e-01, -1.0933e-01, -1.3736e-01, -5.9959e-01, -5.1597e-01,\n",
      "        -1.3703e-01, -2.7542e-01, -1.4620e-01, -2.9386e-01,  2.2663e-01,\n",
      "         8.4901e-01, -7.2464e-02, -4.4153e-01, -1.4638e-01, -3.3046e-02,\n",
      "         4.2836e-01, -5.6481e-01, -4.7757e-02,  6.6058e-02,  9.8583e-01,\n",
      "        -7.6481e-01, -1.5320e-01,  3.9902e-01, -4.4129e-01, -4.0339e-01,\n",
      "         5.8729e-01,  4.0558e-01, -3.8620e-01,  2.2229e-01,  8.3732e-01,\n",
      "        -4.9381e-01,  6.0634e-02,  5.4378e-01, -4.1717e-02, -1.5346e-01,\n",
      "         6.9332e-01, -3.7545e-01,  1.1815e-01,  7.6854e-02,  8.4231e-02,\n",
      "         5.7576e-01,  4.8091e-01, -1.2630e+00, -6.9376e-01, -3.0768e-01,\n",
      "        -1.9307e-01, -2.7767e-02,  1.9338e-01,  4.0202e-01,  9.1994e-01,\n",
      "        -2.4916e-01, -2.6661e-01,  1.5763e-01,  2.6146e-01, -1.9336e-01,\n",
      "         4.5784e-01,  2.2405e-01, -5.9060e-01,  7.4133e-02, -3.8889e-01,\n",
      "        -3.7259e-02, -1.0450e-01,  1.4985e-01,  7.7190e-02, -3.0187e-01,\n",
      "        -5.6893e-02, -3.2341e-01,  1.4481e-01,  6.9141e-01, -4.5229e-01,\n",
      "        -2.3115e-01,  2.1355e-01,  7.5985e-01, -9.2278e-02, -4.1930e-01,\n",
      "         1.8690e-01,  5.9393e-01,  5.4214e-02, -1.5823e-01,  1.5153e-01,\n",
      "        -6.2916e-01,  5.8496e-01,  4.5500e-01,  8.7723e-01,  1.1972e+00,\n",
      "        -1.1758e-01, -1.5516e-01,  7.4746e-02,  4.5033e-01,  1.1429e+00,\n",
      "         4.5192e-01, -1.2661e-01, -1.1600e-01, -1.7552e-01, -2.2596e-01,\n",
      "         1.4625e-01,  6.6333e-01,  3.9739e-03, -3.2699e-01,  1.6751e-01,\n",
      "        -6.7216e-01,  6.0739e-02, -4.5035e-02, -2.9632e-01, -3.2281e-01,\n",
      "        -2.0500e-01,  3.2607e-02,  6.3236e-01,  5.1310e-02,  6.6101e-02,\n",
      "        -1.3064e-01,  2.6078e-01,  9.1930e-01,  2.0308e-01,  6.5616e-02,\n",
      "         6.7445e-01,  6.1910e-01, -9.6399e-02,  4.7348e-01,  4.8057e-01,\n",
      "        -2.7994e-01,  1.2015e-01,  8.4003e-01,  4.2957e-01,  3.9866e-01,\n",
      "         5.4084e-03,  2.7967e-01, -2.5509e-01, -7.1160e-02,  5.7464e-01,\n",
      "        -5.5355e-01, -2.5416e-01, -1.2936e-01,  4.9630e-01,  4.7481e-01,\n",
      "         7.8081e-01,  3.5241e-01, -2.7988e-01,  5.6824e-01,  2.6706e-01,\n",
      "        -1.1316e-01, -2.4090e-01, -2.0813e-01,  4.7590e-01,  6.3848e-01,\n",
      "        -6.2952e-01, -3.5696e-01, -4.7619e-01,  5.0740e-02, -3.2703e-02,\n",
      "         1.2609e-01,  6.2814e-01,  5.9461e-01, -6.6381e-01,  2.4232e-01,\n",
      "        -3.6052e-01, -2.3269e-02, -5.3009e-01,  2.9307e-01,  2.1317e-02,\n",
      "        -4.3598e-01,  3.5523e-01,  2.7734e-01, -6.6090e-01,  1.4499e-01,\n",
      "        -3.9435e-01, -2.8924e-02, -3.3972e-01, -3.7924e-01, -5.2210e-01,\n",
      "        -9.9225e-01, -9.4468e-02,  6.2092e-01, -2.7230e-01, -5.8904e-01,\n",
      "        -6.2507e-01,  2.9525e-01,  3.8716e-01,  3.4647e-01, -2.9026e-01,\n",
      "        -2.5603e-01, -8.2315e-01, -2.9679e-02,  7.2446e-02, -3.6268e-01,\n",
      "        -3.0160e-01,  1.4139e-01, -1.2167e-01, -3.0240e-01, -2.7661e-02,\n",
      "         6.3125e-01, -4.9752e-01,  6.9143e-01, -8.3174e-01,  8.5537e-02,\n",
      "        -7.7007e-01,  9.8483e-01, -6.0771e-02,  3.3408e-01,  4.8605e-01,\n",
      "        -2.4028e-03, -2.9764e-01,  5.1267e-01,  5.5460e-01,  2.7305e-01,\n",
      "         5.8288e-01, -7.8295e-02,  8.9420e-01, -3.8716e-01,  7.8759e-01,\n",
      "         2.6317e-01,  5.0669e-01, -1.9839e-01,  1.9705e-01,  6.4210e-01,\n",
      "        -6.1133e-01,  5.3449e-01,  2.6420e-01, -5.4017e-01, -1.4035e-01,\n",
      "         4.7729e-01,  2.1636e-01,  1.0822e-01, -5.8313e-01,  5.3209e-02,\n",
      "        -3.3089e-01,  8.4005e-02, -7.4425e-02,  3.3201e-01,  1.4107e-02,\n",
      "         4.2262e-01, -2.1650e-01, -1.9425e-01,  2.0612e-01, -2.8904e-01,\n",
      "         4.4200e-01,  7.2331e-02, -2.7894e-01,  1.3649e+00,  2.5447e-01,\n",
      "         2.7234e-01,  5.3068e-01, -2.9589e-01,  2.3401e-01, -6.1864e-01,\n",
      "        -1.0337e-01,  2.3285e-01, -1.1096e-01,  4.3554e-02, -6.4981e-01,\n",
      "        -1.3372e-01,  2.1861e-01, -8.4316e-01,  1.1697e-01, -1.9064e-01,\n",
      "         1.1527e-01,  7.1678e-01, -5.1537e-02, -8.7932e-02, -3.7234e-01,\n",
      "        -4.2992e-01,  8.3129e-01,  2.0204e-02,  9.5432e-01,  2.5007e-01,\n",
      "         1.6328e-01, -5.6906e-01,  3.4136e-01, -2.0458e-01, -4.7588e-01,\n",
      "        -2.0248e-02, -3.4918e-01,  6.6305e-01,  4.7819e-01, -4.6281e-01,\n",
      "         2.6209e-01, -1.7568e-01, -7.5603e-02,  2.7600e-01,  4.8338e-01,\n",
      "        -1.0222e-01,  1.1449e-02,  2.4381e-01, -1.2023e-01, -3.9465e-01,\n",
      "        -6.4495e-02,  2.3504e-01,  8.2392e-02, -1.7259e-01, -9.2552e-02,\n",
      "        -1.6897e-01, -1.9384e-01, -2.1692e-01, -3.2470e-02, -1.9040e-01,\n",
      "        -7.3887e-01,  2.3607e-01,  5.8883e-01, -2.8917e-01,  7.1038e-02,\n",
      "        -1.0650e-01, -1.1782e-01, -1.3912e-01, -3.9986e-01, -3.5610e-01,\n",
      "        -2.0569e-01, -4.7140e-01,  5.8218e-01,  7.1216e-02,  2.6964e-01,\n",
      "        -5.5554e-01, -2.9503e-02,  9.5341e-02,  2.7133e-02,  2.9599e-02,\n",
      "        -4.9302e-01,  7.3126e-01, -2.9456e-02, -1.3375e-01,  5.5642e-01,\n",
      "        -1.7219e-01, -1.6798e-01, -5.3823e-01,  6.5802e-02,  1.0013e+00,\n",
      "        -2.9952e-02, -3.2427e-01, -1.8110e-01,  3.9009e-03,  3.1652e-01,\n",
      "        -9.5284e-02,  1.8939e-02,  4.0237e-02, -4.6674e-01, -3.1455e-01,\n",
      "         2.4739e-01,  4.0497e-01, -1.1182e-01, -3.3906e-01,  4.1625e-01,\n",
      "         7.8555e-02,  8.5104e-01,  3.5235e-01,  1.3215e-01,  2.4209e-01,\n",
      "         6.2267e-01, -5.9221e-01,  5.4804e-01,  9.4820e-01,  1.1920e-01,\n",
      "        -4.0040e-01,  3.8048e-01, -3.9147e-01,  3.5830e-01, -4.5400e-01,\n",
      "        -2.7723e-01,  5.8940e-02,  4.2906e-01,  5.6938e-01, -2.1330e-01,\n",
      "         5.9079e-01, -1.4401e-01,  1.9340e-01, -1.9308e-01,  1.0482e-01,\n",
      "        -3.8162e-01, -4.8555e-01,  1.2608e-01,  7.3427e-01,  2.9691e-01,\n",
      "         3.5306e-01, -2.2023e-01,  8.0005e-01, -6.2959e-02,  8.1899e-02,\n",
      "        -1.9977e-01,  1.5096e-01, -3.6366e-01, -4.1738e-01, -1.1995e-01,\n",
      "        -5.7008e-02,  1.8083e-01, -1.5025e-01,  9.5457e-02, -7.2234e-02,\n",
      "         3.4300e-01,  1.7162e-01, -3.4587e-01, -3.0571e-02,  2.0931e-01,\n",
      "         9.1000e-02,  5.4101e-02,  2.6756e-01,  2.0296e-01,  3.5768e-01,\n",
      "        -1.4534e-02,  7.8665e-02,  4.5794e-01,  1.1426e-01,  6.9493e-02,\n",
      "         1.3651e-01, -6.1578e-01, -7.9396e-02, -1.9103e-01,  6.1424e-01,\n",
      "        -1.8057e-01,  2.1619e-01, -8.3082e-02,  1.0445e-01, -2.3835e-01,\n",
      "         1.9023e-02,  7.4764e-03,  7.1770e-01,  8.2533e-01, -1.7676e-01,\n",
      "        -1.3547e-02,  6.1678e-01, -8.7000e-03, -2.2439e-01, -3.1775e-02,\n",
      "        -3.4282e-01, -1.6404e-01, -2.6814e-01,  4.1010e-01, -4.0065e-01,\n",
      "        -2.8497e-03,  2.5516e-01, -3.3838e-01,  1.9351e-01,  3.4152e-01,\n",
      "        -1.7147e-01, -2.3499e-01, -4.8986e-02,  4.9237e-01, -7.8164e-01,\n",
      "        -5.1191e-01, -7.8739e-02, -2.0968e-01,  3.1260e-01,  4.5684e-02,\n",
      "        -2.0306e-01,  2.1749e-01, -6.7565e-01, -5.0644e-02,  4.2288e-01,\n",
      "        -4.3109e-02, -3.1242e-01,  6.9417e-02,  4.7964e-01,  1.3708e-01,\n",
      "        -6.2228e-01, -4.6963e-01,  4.7734e-02, -1.4712e-01,  2.0913e-01,\n",
      "         5.8545e-01,  2.7760e-01,  1.2239e-01, -1.9772e-01,  2.0739e-01,\n",
      "         5.4942e-01,  3.4192e-02, -3.2586e-01,  1.4690e-01, -2.0416e-01,\n",
      "         5.5291e-01,  1.6760e-01, -8.4797e-02,  5.9099e-02,  6.7042e-01,\n",
      "         8.4031e-01,  2.1387e-03,  3.9175e-01, -1.5225e-01, -8.1849e-02,\n",
      "         6.7927e-01, -3.4723e-01, -1.4211e-01, -2.7471e-01,  5.3396e-01,\n",
      "         1.7960e-01, -2.7984e-01,  8.6124e-01,  5.7271e-02, -5.2820e-02,\n",
      "         5.6808e-01, -3.3118e-01, -5.5340e-01,  1.1640e+00, -1.8901e-02,\n",
      "         8.6143e-02, -4.5353e-01,  6.8460e-01,  6.4930e-02, -2.1106e-01,\n",
      "         1.7699e-01,  5.4757e-01, -5.7554e-01, -1.1139e-01,  7.8433e-01,\n",
      "         4.1677e-01,  2.6501e-01,  1.7488e-01,  7.8320e-01,  1.9430e-01,\n",
      "         1.5261e-01, -6.8572e-01, -7.4379e-01, -2.2130e-01, -5.7476e-02,\n",
      "        -1.2572e-01, -1.9962e-01,  5.4030e-01,  2.0573e-01, -6.4505e-01,\n",
      "         2.7835e-03,  4.4340e-02,  3.6195e-01,  1.1674e+00,  6.7245e-01,\n",
      "         3.5502e-01, -5.2386e-01, -7.4252e-02,  5.2118e-01, -1.1554e-02,\n",
      "        -2.8612e-01, -6.4271e-01,  4.8611e-01, -1.4541e-01,  3.1217e-01,\n",
      "         6.3405e-01,  4.4174e-01,  6.4238e-02, -1.4846e-01, -1.3207e-02,\n",
      "        -4.1632e-01, -5.3106e-01, -1.4818e-01, -6.1457e-02, -4.3626e-01,\n",
      "         3.6698e-02,  3.1172e-01, -3.5272e-02,  9.1203e-01, -2.6188e-01,\n",
      "        -8.1318e-02,  1.3765e-01, -1.5289e-01,  4.4376e-01,  3.5402e-01,\n",
      "        -1.0622e-01, -1.3449e-01, -3.3163e-01, -2.0554e-01, -6.1330e-02,\n",
      "         4.2544e-01,  2.5811e-01,  5.6481e-01,  2.3258e-01,  6.4685e-01,\n",
      "         2.4299e-01,  1.2118e-01, -1.2019e-01,  7.2341e-01, -1.8294e-01,\n",
      "        -2.6912e-01, -3.3053e-01,  2.2505e-01, -8.2989e-02, -3.2115e-01,\n",
      "         4.1353e-02, -1.9903e-02, -1.6929e-02,  3.1295e-02,  2.5322e-01,\n",
      "        -1.5930e-01,  2.4071e-01, -6.5314e-01, -1.8311e-01,  1.7998e-01,\n",
      "        -3.2566e-01,  4.3252e-02,  2.6358e-01, -3.8085e-01,  3.4492e-01,\n",
      "         6.2076e-01,  1.6717e-01, -2.8210e-01,  8.2227e-01,  1.1845e-01,\n",
      "        -7.6297e-03,  9.6997e-01, -4.8800e-01, -2.7917e-01, -7.1920e-01,\n",
      "        -4.0592e-01, -7.6185e-01, -1.1350e+00, -5.7100e-01, -9.4789e-01,\n",
      "        -4.9813e-01, -7.6110e-02,  4.4675e-01,  1.4783e-01, -5.5978e-01,\n",
      "        -1.5645e-02, -9.2093e-01,  4.9078e-01,  7.5848e-02, -3.8093e-01,\n",
      "        -9.3008e-01, -4.2241e-01, -3.0409e-01, -5.9105e-01,  6.0787e-02,\n",
      "        -1.4822e-01, -3.1231e-01, -2.8550e-01,  9.0207e-01,  5.1734e-02])\n",
      "tensor([0.0009, 0.0014, 0.0012, 0.0008, 0.0006, 0.0004, 0.0006, 0.0008, 0.0009,\n",
      "        0.0006, 0.0006, 0.0004, 0.0006, 0.0006, 0.0004, 0.0003, 0.0003, 0.0010,\n",
      "        0.0008, 0.0005, 0.0008, 0.0006, 0.0008, 0.0007, 0.0014, 0.0008, 0.0005,\n",
      "        0.0005, 0.0012, 0.0008, 0.0010, 0.0009, 0.0010, 0.0008, 0.0008, 0.0008,\n",
      "        0.0008, 0.0007, 0.0010, 0.0006, 0.0005, 0.0007, 0.0007, 0.0008, 0.0008,\n",
      "        0.0012, 0.0007, 0.0005, 0.0007, 0.0009, 0.0008, 0.0014, 0.0007, 0.0011,\n",
      "        0.0005, 0.0008, 0.0009, 0.0007, 0.0011, 0.0006, 0.0012, 0.0010, 0.0012,\n",
      "        0.0012, 0.0013, 0.0011, 0.0008, 0.0009, 0.0007, 0.0005, 0.0005, 0.0007,\n",
      "        0.0006, 0.0008, 0.0006, 0.0006, 0.0007, 0.0005, 0.0005, 0.0010, 0.0011,\n",
      "        0.0007, 0.0009, 0.0007, 0.0011, 0.0011, 0.0013, 0.0013, 0.0010, 0.0007,\n",
      "        0.0009, 0.0009, 0.0005, 0.0008, 0.0011, 0.0004, 0.0016, 0.0007, 0.0004,\n",
      "        0.0008, 0.0009, 0.0009, 0.0007, 0.0006, 0.0005, 0.0007, 0.0008, 0.0011,\n",
      "        0.0011, 0.0007, 0.0006, 0.0008, 0.0010, 0.0011, 0.0010, 0.0007, 0.0006,\n",
      "        0.0015, 0.0011, 0.0010, 0.0007, 0.0016, 0.0014, 0.0012, 0.0027, 0.0007,\n",
      "        0.0013, 0.0007, 0.0006, 0.0012, 0.0007, 0.0008, 0.0011, 0.0007, 0.0016,\n",
      "        0.0006, 0.0008, 0.0010, 0.0010, 0.0004, 0.0015, 0.0008, 0.0009, 0.0009,\n",
      "        0.0007, 0.0007, 0.0014, 0.0009, 0.0006, 0.0007, 0.0015, 0.0010, 0.0010,\n",
      "        0.0012, 0.0014, 0.0014, 0.0008, 0.0006, 0.0007, 0.0010, 0.0007, 0.0006,\n",
      "        0.0006, 0.0009, 0.0009, 0.0008, 0.0006, 0.0008, 0.0008, 0.0007, 0.0010,\n",
      "        0.0012, 0.0012, 0.0007, 0.0009, 0.0008, 0.0008, 0.0011, 0.0012, 0.0015,\n",
      "        0.0016, 0.0007, 0.0011, 0.0012, 0.0009, 0.0012, 0.0006, 0.0007, 0.0007,\n",
      "        0.0008, 0.0010, 0.0007, 0.0011, 0.0009, 0.0008, 0.0013, 0.0010, 0.0012,\n",
      "        0.0011, 0.0006, 0.0014, 0.0006, 0.0012, 0.0009, 0.0017, 0.0012, 0.0010,\n",
      "        0.0007, 0.0011, 0.0008, 0.0009, 0.0009, 0.0010, 0.0004, 0.0006, 0.0007,\n",
      "        0.0010, 0.0007, 0.0004, 0.0009, 0.0008, 0.0005, 0.0007, 0.0007, 0.0007,\n",
      "        0.0007, 0.0007, 0.0006, 0.0010, 0.0010, 0.0007, 0.0011, 0.0008, 0.0012,\n",
      "        0.0008, 0.0005, 0.0010, 0.0008, 0.0009, 0.0007, 0.0008, 0.0007, 0.0013,\n",
      "        0.0009, 0.0006, 0.0013, 0.0014, 0.0007, 0.0007, 0.0008, 0.0007, 0.0008,\n",
      "        0.0007, 0.0009, 0.0013, 0.0006, 0.0008, 0.0009, 0.0006, 0.0007, 0.0008,\n",
      "        0.0009, 0.0010, 0.0007, 0.0004, 0.0008, 0.0006, 0.0006, 0.0014, 0.0007,\n",
      "        0.0005, 0.0008, 0.0006, 0.0008, 0.0004, 0.0009, 0.0008, 0.0005, 0.0005,\n",
      "        0.0009, 0.0006, 0.0010, 0.0012, 0.0010, 0.0006, 0.0015, 0.0008, 0.0009,\n",
      "        0.0007, 0.0008, 0.0015, 0.0008, 0.0009, 0.0008, 0.0007, 0.0009, 0.0006,\n",
      "        0.0007, 0.0006, 0.0007, 0.0005, 0.0003, 0.0005, 0.0006, 0.0003, 0.0006,\n",
      "        0.0007, 0.0006, 0.0007, 0.0005, 0.0005, 0.0009, 0.0006, 0.0008, 0.0009,\n",
      "        0.0008, 0.0007, 0.0008, 0.0007, 0.0005, 0.0004, 0.0006, 0.0004, 0.0006,\n",
      "        0.0007, 0.0004, 0.0007, 0.0013, 0.0011, 0.0009, 0.0007, 0.0005, 0.0009,\n",
      "        0.0013, 0.0008, 0.0004, 0.0006, 0.0009, 0.0012, 0.0008, 0.0012, 0.0009,\n",
      "        0.0012, 0.0006, 0.0006, 0.0009, 0.0006, 0.0007, 0.0010, 0.0006, 0.0007,\n",
      "        0.0007, 0.0008, 0.0008, 0.0008, 0.0006, 0.0012, 0.0008, 0.0011, 0.0012,\n",
      "        0.0020, 0.0006, 0.0011, 0.0013, 0.0007, 0.0007, 0.0009, 0.0011, 0.0006,\n",
      "        0.0009, 0.0010, 0.0008, 0.0004, 0.0006, 0.0010, 0.0014, 0.0007, 0.0015,\n",
      "        0.0011, 0.0009, 0.0007, 0.0009, 0.0008, 0.0005, 0.0006, 0.0008, 0.0007,\n",
      "        0.0008, 0.0007, 0.0012, 0.0023, 0.0009, 0.0006, 0.0008, 0.0009, 0.0015,\n",
      "        0.0006, 0.0009, 0.0010, 0.0026, 0.0005, 0.0008, 0.0014, 0.0006, 0.0006,\n",
      "        0.0017, 0.0015, 0.0007, 0.0012, 0.0022, 0.0006, 0.0010, 0.0017, 0.0009,\n",
      "        0.0008, 0.0019, 0.0007, 0.0011, 0.0010, 0.0011, 0.0017, 0.0016, 0.0003,\n",
      "        0.0005, 0.0007, 0.0008, 0.0009, 0.0012, 0.0014, 0.0024, 0.0008, 0.0007,\n",
      "        0.0011, 0.0013, 0.0008, 0.0015, 0.0012, 0.0005, 0.0010, 0.0007, 0.0009,\n",
      "        0.0009, 0.0011, 0.0010, 0.0007, 0.0009, 0.0007, 0.0011, 0.0019, 0.0006,\n",
      "        0.0008, 0.0012, 0.0021, 0.0009, 0.0006, 0.0012, 0.0018, 0.0010, 0.0008,\n",
      "        0.0011, 0.0005, 0.0017, 0.0015, 0.0023, 0.0032, 0.0009, 0.0008, 0.0010,\n",
      "        0.0015, 0.0030, 0.0015, 0.0009, 0.0009, 0.0008, 0.0008, 0.0011, 0.0019,\n",
      "        0.0010, 0.0007, 0.0011, 0.0005, 0.0010, 0.0009, 0.0007, 0.0007, 0.0008,\n",
      "        0.0010, 0.0018, 0.0010, 0.0010, 0.0008, 0.0013, 0.0024, 0.0012, 0.0010,\n",
      "        0.0019, 0.0018, 0.0009, 0.0016, 0.0016, 0.0007, 0.0011, 0.0022, 0.0015,\n",
      "        0.0014, 0.0010, 0.0013, 0.0007, 0.0009, 0.0017, 0.0006, 0.0008, 0.0009,\n",
      "        0.0016, 0.0016, 0.0021, 0.0014, 0.0007, 0.0017, 0.0013, 0.0009, 0.0008,\n",
      "        0.0008, 0.0016, 0.0018, 0.0005, 0.0007, 0.0006, 0.0010, 0.0009, 0.0011,\n",
      "        0.0018, 0.0018, 0.0005, 0.0012, 0.0007, 0.0009, 0.0006, 0.0013, 0.0010,\n",
      "        0.0006, 0.0014, 0.0013, 0.0005, 0.0011, 0.0007, 0.0009, 0.0007, 0.0007,\n",
      "        0.0006, 0.0004, 0.0009, 0.0018, 0.0007, 0.0005, 0.0005, 0.0013, 0.0014,\n",
      "        0.0014, 0.0007, 0.0007, 0.0004, 0.0009, 0.0010, 0.0007, 0.0007, 0.0011,\n",
      "        0.0009, 0.0007, 0.0009, 0.0018, 0.0006, 0.0019, 0.0004, 0.0011, 0.0004,\n",
      "        0.0026, 0.0009, 0.0014, 0.0016, 0.0010, 0.0007, 0.0016, 0.0017, 0.0013,\n",
      "        0.0017, 0.0009, 0.0024, 0.0007, 0.0021, 0.0013, 0.0016, 0.0008, 0.0012,\n",
      "        0.0018, 0.0005, 0.0017, 0.0013, 0.0006, 0.0008, 0.0016, 0.0012, 0.0011,\n",
      "        0.0005, 0.0010, 0.0007, 0.0011, 0.0009, 0.0013, 0.0010, 0.0015, 0.0008,\n",
      "        0.0008, 0.0012, 0.0007, 0.0015, 0.0010, 0.0007, 0.0038, 0.0012, 0.0013,\n",
      "        0.0016, 0.0007, 0.0012, 0.0005, 0.0009, 0.0012, 0.0009, 0.0010, 0.0005,\n",
      "        0.0008, 0.0012, 0.0004, 0.0011, 0.0008, 0.0011, 0.0020, 0.0009, 0.0009,\n",
      "        0.0007, 0.0006, 0.0022, 0.0010, 0.0025, 0.0012, 0.0011, 0.0005, 0.0014,\n",
      "        0.0008, 0.0006, 0.0009, 0.0007, 0.0019, 0.0016, 0.0006, 0.0013, 0.0008,\n",
      "        0.0009, 0.0013, 0.0016, 0.0009, 0.0010, 0.0012, 0.0009, 0.0007, 0.0009,\n",
      "        0.0012, 0.0011, 0.0008, 0.0009, 0.0008, 0.0008, 0.0008, 0.0009, 0.0008,\n",
      "        0.0005, 0.0012, 0.0017, 0.0007, 0.0010, 0.0009, 0.0009, 0.0008, 0.0006,\n",
      "        0.0007, 0.0008, 0.0006, 0.0017, 0.0010, 0.0013, 0.0006, 0.0009, 0.0011,\n",
      "        0.0010, 0.0010, 0.0006, 0.0020, 0.0009, 0.0008, 0.0017, 0.0008, 0.0008,\n",
      "        0.0006, 0.0010, 0.0026, 0.0009, 0.0007, 0.0008, 0.0010, 0.0013, 0.0009,\n",
      "        0.0010, 0.0010, 0.0006, 0.0007, 0.0012, 0.0015, 0.0009, 0.0007, 0.0015,\n",
      "        0.0010, 0.0023, 0.0014, 0.0011, 0.0012, 0.0018, 0.0005, 0.0017, 0.0025,\n",
      "        0.0011, 0.0006, 0.0014, 0.0007, 0.0014, 0.0006, 0.0007, 0.0010, 0.0015,\n",
      "        0.0017, 0.0008, 0.0017, 0.0008, 0.0012, 0.0008, 0.0011, 0.0007, 0.0006,\n",
      "        0.0011, 0.0020, 0.0013, 0.0014, 0.0008, 0.0022, 0.0009, 0.0011, 0.0008,\n",
      "        0.0011, 0.0007, 0.0006, 0.0009, 0.0009, 0.0012, 0.0008, 0.0011, 0.0009,\n",
      "        0.0014, 0.0011, 0.0007, 0.0009, 0.0012, 0.0011, 0.0010, 0.0013, 0.0012,\n",
      "        0.0014, 0.0010, 0.0010, 0.0015, 0.0011, 0.0010, 0.0011, 0.0005, 0.0009,\n",
      "        0.0008, 0.0018, 0.0008, 0.0012, 0.0009, 0.0011, 0.0008, 0.0010, 0.0010,\n",
      "        0.0020, 0.0022, 0.0008, 0.0010, 0.0018, 0.0010, 0.0008, 0.0009, 0.0007,\n",
      "        0.0008, 0.0007, 0.0015, 0.0006, 0.0010, 0.0012, 0.0007, 0.0012, 0.0014,\n",
      "        0.0008, 0.0008, 0.0009, 0.0016, 0.0004, 0.0006, 0.0009, 0.0008, 0.0013,\n",
      "        0.0010, 0.0008, 0.0012, 0.0005, 0.0009, 0.0015, 0.0009, 0.0007, 0.0010,\n",
      "        0.0016, 0.0011, 0.0005, 0.0006, 0.0010, 0.0008, 0.0012, 0.0017, 0.0013,\n",
      "        0.0011, 0.0008, 0.0012, 0.0017, 0.0010, 0.0007, 0.0011, 0.0008, 0.0017,\n",
      "        0.0011, 0.0009, 0.0010, 0.0019, 0.0022, 0.0010, 0.0014, 0.0008, 0.0009,\n",
      "        0.0019, 0.0007, 0.0008, 0.0007, 0.0017, 0.0012, 0.0007, 0.0023, 0.0010,\n",
      "        0.0009, 0.0017, 0.0007, 0.0006, 0.0031, 0.0009, 0.0011, 0.0006, 0.0019,\n",
      "        0.0010, 0.0008, 0.0012, 0.0017, 0.0005, 0.0009, 0.0021, 0.0015, 0.0013,\n",
      "        0.0012, 0.0021, 0.0012, 0.0011, 0.0005, 0.0005, 0.0008, 0.0009, 0.0009,\n",
      "        0.0008, 0.0017, 0.0012, 0.0005, 0.0010, 0.0010, 0.0014, 0.0031, 0.0019,\n",
      "        0.0014, 0.0006, 0.0009, 0.0016, 0.0010, 0.0007, 0.0005, 0.0016, 0.0008,\n",
      "        0.0013, 0.0018, 0.0015, 0.0010, 0.0008, 0.0010, 0.0006, 0.0006, 0.0008,\n",
      "        0.0009, 0.0006, 0.0010, 0.0013, 0.0009, 0.0024, 0.0007, 0.0009, 0.0011,\n",
      "        0.0008, 0.0015, 0.0014, 0.0009, 0.0008, 0.0007, 0.0008, 0.0009, 0.0015,\n",
      "        0.0013, 0.0017, 0.0012, 0.0018, 0.0012, 0.0011, 0.0009, 0.0020, 0.0008,\n",
      "        0.0007, 0.0007, 0.0012, 0.0009, 0.0007, 0.0010, 0.0009, 0.0010, 0.0010,\n",
      "        0.0012, 0.0008, 0.0012, 0.0005, 0.0008, 0.0012, 0.0007, 0.0010, 0.0013,\n",
      "        0.0007, 0.0014, 0.0018, 0.0011, 0.0007, 0.0022, 0.0011, 0.0010, 0.0026,\n",
      "        0.0006, 0.0007, 0.0005, 0.0006, 0.0005, 0.0003, 0.0005, 0.0004, 0.0006,\n",
      "        0.0009, 0.0015, 0.0011, 0.0006, 0.0010, 0.0004, 0.0016, 0.0010, 0.0007,\n",
      "        0.0004, 0.0006, 0.0007, 0.0005, 0.0010, 0.0008, 0.0007, 0.0007, 0.0024,\n",
      "        0.0010])\n"
     ]
    }
   ],
   "source": [
    "# sample execution (requires torchvision)\n",
    "from PIL import Image\n",
    "from torchvision import transforms\n",
    "input_image = Image.open(\"FACD_image/1977/2729.jpg\")\n",
    "model = models.googlenet(pretrained=True)\n",
    "preprocess = transforms.Compose([\n",
    "    transforms.Resize(256),\n",
    "    transforms.CenterCrop(224),\n",
    "    transforms.ToTensor(),\n",
    "    transforms.Normalize(mean=[0.485, 0.456, 0.406], std=[0.229, 0.224, 0.225]),\n",
    "])\n",
    "input_tensor = preprocess(input_image)\n",
    "input_batch = input_tensor.unsqueeze(0) # create a mini-batch as expected by the model\n",
    "\n",
    "# move the input and model to GPU for speed if available\n",
    "if torch.cuda.is_available():\n",
    "    input_batch = input_batch.to('cuda')\n",
    "    model.to('cuda')\n",
    "\n",
    "with torch.no_grad():\n",
    "    output = model(input_batch)\n",
    "# Tensor of shape 1000, with confidence scores over Imagenet's 1000 classes\n",
    "print(output[0])\n",
    "# The output has unnormalized scores. To get probabilities, you can run a softmax on it.\n",
    "print(torch.nn.functional.softmax(output[0], dim=0))"
   ]
  },
  {
   "cell_type": "code",
   "execution_count": 4,
   "metadata": {},
   "outputs": [],
   "source": [
    "def create_siamese(reg_param=0.0002, no_of_score_layers=1, max_no_of_nodes=128):\n",
    "    input1 = Input(shape=self.input_shape)\n",
    "    input2 = Input(shape=self.input_shape)\n",
    "    print(\"input 1: \", input1)\n",
    "    print(\"input 2: \", input2)\n",
    "    # get features from base network\n",
    "    feature1 = Dense(self.no_of_classes, activation='softmax', kernel_regularizer=l2(reg_param), name='abs1')\n",
    "    feature2 = Dense(self.no_of_classes, activation='softmax', kernel_regularizer=l2(reg_param), name='comp1')\n",
    "    # create and pass through score layers\n",
    "    score1 = feature1\n",
    "    score2 = feature2\n",
    "    for l in range(no_of_score_layers-1):\n",
    "        layer = Dense(int(max_no_of_nodes / (l+2)), activation='relu', kernel_regularizer=l2(reg_param), name='s'+str(l))\n",
    "        score1 = layer(score1)\n",
    "        score2 = layer(score2)\n",
    "    # create final layers of absolute and comparison\n",
    "    abs_out = Dense(self.no_of_classes, activation='softmax', kernel_regularizer=l2(reg_param), name='abs')\n",
    "    comp_out = Dense(1, activation='sigmoid', kernel_regularizer=l2(reg_param), name='comp')\n",
    "    # absolute part\n",
    "    abs_out1 = abs_out(score1)\n",
    "    abs_net = Model(input1, abs_out1)\n",
    "    # comparison part\n",
    "    comp_out1 = comp_out(score1)\n",
    "    comp_out2 = comp_out(score2)\n",
    "    distance = Lambda(BTPred, output_shape=(1,))([comp_out1, comp_out2])\n",
    "    comp_net = Model([input1, input2], distance)\n",
    "    return abs_net, comp_net"
   ]
  },
  {
   "cell_type": "code",
   "execution_count": 5,
   "metadata": {},
   "outputs": [
    {
     "ename": "NameError",
     "evalue": "name 'Input' is not defined",
     "output_type": "error",
     "traceback": [
      "\u001b[0;31m---------------------------------------------------------------------------\u001b[0m",
      "\u001b[0;31mNameError\u001b[0m                                 Traceback (most recent call last)",
      "\u001b[0;32m<ipython-input-5-4e448f5e1aca>\u001b[0m in \u001b[0;36m<module>\u001b[0;34m\u001b[0m\n\u001b[0;32m----> 1\u001b[0;31m \u001b[0mcreate_siamese\u001b[0m\u001b[0;34m(\u001b[0m\u001b[0;34m)\u001b[0m\u001b[0;34m\u001b[0m\u001b[0;34m\u001b[0m\u001b[0m\n\u001b[0m",
      "\u001b[0;32m<ipython-input-4-77202b79f34a>\u001b[0m in \u001b[0;36mcreate_siamese\u001b[0;34m(reg_param, no_of_score_layers, max_no_of_nodes)\u001b[0m\n\u001b[1;32m      1\u001b[0m \u001b[0;32mdef\u001b[0m \u001b[0mcreate_siamese\u001b[0m\u001b[0;34m(\u001b[0m\u001b[0mreg_param\u001b[0m\u001b[0;34m=\u001b[0m\u001b[0;36m0.0002\u001b[0m\u001b[0;34m,\u001b[0m \u001b[0mno_of_score_layers\u001b[0m\u001b[0;34m=\u001b[0m\u001b[0;36m1\u001b[0m\u001b[0;34m,\u001b[0m \u001b[0mmax_no_of_nodes\u001b[0m\u001b[0;34m=\u001b[0m\u001b[0;36m128\u001b[0m\u001b[0;34m)\u001b[0m\u001b[0;34m:\u001b[0m\u001b[0;34m\u001b[0m\u001b[0;34m\u001b[0m\u001b[0m\n\u001b[0;32m----> 2\u001b[0;31m     \u001b[0minput1\u001b[0m \u001b[0;34m=\u001b[0m \u001b[0mInput\u001b[0m\u001b[0;34m(\u001b[0m\u001b[0mshape\u001b[0m\u001b[0;34m=\u001b[0m\u001b[0mself\u001b[0m\u001b[0;34m.\u001b[0m\u001b[0minput_shape\u001b[0m\u001b[0;34m)\u001b[0m\u001b[0;34m\u001b[0m\u001b[0;34m\u001b[0m\u001b[0m\n\u001b[0m\u001b[1;32m      3\u001b[0m     \u001b[0minput2\u001b[0m \u001b[0;34m=\u001b[0m \u001b[0mInput\u001b[0m\u001b[0;34m(\u001b[0m\u001b[0mshape\u001b[0m\u001b[0;34m=\u001b[0m\u001b[0mself\u001b[0m\u001b[0;34m.\u001b[0m\u001b[0minput_shape\u001b[0m\u001b[0;34m)\u001b[0m\u001b[0;34m\u001b[0m\u001b[0;34m\u001b[0m\u001b[0m\n\u001b[1;32m      4\u001b[0m     \u001b[0mprint\u001b[0m\u001b[0;34m(\u001b[0m\u001b[0;34m\"input 1: \"\u001b[0m\u001b[0;34m,\u001b[0m \u001b[0minput1\u001b[0m\u001b[0;34m)\u001b[0m\u001b[0;34m\u001b[0m\u001b[0;34m\u001b[0m\u001b[0m\n\u001b[1;32m      5\u001b[0m     \u001b[0mprint\u001b[0m\u001b[0;34m(\u001b[0m\u001b[0;34m\"input 2: \"\u001b[0m\u001b[0;34m,\u001b[0m \u001b[0minput2\u001b[0m\u001b[0;34m)\u001b[0m\u001b[0;34m\u001b[0m\u001b[0;34m\u001b[0m\u001b[0m\n",
      "\u001b[0;31mNameError\u001b[0m: name 'Input' is not defined"
     ]
    }
   ],
   "source": [
    "create_siamese()"
   ]
  },
  {
   "cell_type": "code",
   "execution_count": null,
   "metadata": {},
   "outputs": [],
   "source": []
  },
  {
   "cell_type": "code",
   "execution_count": null,
   "metadata": {},
   "outputs": [],
   "source": []
  },
  {
   "cell_type": "code",
   "execution_count": 19,
   "metadata": {},
   "outputs": [
    {
     "ename": "ImportError",
     "evalue": "cannot import name 'Layer' from 'keras.layers.core' (/Users/dipika/.pyenv/versions/3.7.9/envs/home/lib/python3.7/site-packages/keras/layers/core.py)",
     "output_type": "error",
     "traceback": [
      "\u001b[0;31m---------------------------------------------------------------------------\u001b[0m",
      "\u001b[0;31mImportError\u001b[0m                               Traceback (most recent call last)",
      "\u001b[0;32m<ipython-input-19-0afdda19cec7>\u001b[0m in \u001b[0;36m<module>\u001b[0;34m\u001b[0m\n\u001b[1;32m      4\u001b[0m \u001b[0mfeature_extract\u001b[0m \u001b[0;34m=\u001b[0m \u001b[0;32mTrue\u001b[0m\u001b[0;34m\u001b[0m\u001b[0;34m\u001b[0m\u001b[0m\n\u001b[1;32m      5\u001b[0m \u001b[0;34m\u001b[0m\u001b[0m\n\u001b[0;32m----> 6\u001b[0;31m \u001b[0;32mfrom\u001b[0m \u001b[0mgoogle_net\u001b[0m \u001b[0;32mimport\u001b[0m \u001b[0;34m*\u001b[0m\u001b[0;34m\u001b[0m\u001b[0;34m\u001b[0m\u001b[0m\n\u001b[0m\u001b[1;32m      7\u001b[0m \u001b[0;34m\u001b[0m\u001b[0m\n\u001b[1;32m      8\u001b[0m \u001b[0;32mclass\u001b[0m \u001b[0mLambdaLayer\u001b[0m\u001b[0;34m(\u001b[0m\u001b[0mnn\u001b[0m\u001b[0;34m.\u001b[0m\u001b[0mModule\u001b[0m\u001b[0;34m)\u001b[0m\u001b[0;34m:\u001b[0m\u001b[0;34m\u001b[0m\u001b[0;34m\u001b[0m\u001b[0m\n",
      "\u001b[0;32m~/Desktop/comparison_nets/ClassificationAndComparisonViaNeuralNetworks/Combined Neural Network/FAC/google_net.py\u001b[0m in \u001b[0;36m<module>\u001b[0;34m\u001b[0m\n\u001b[1;32m      9\u001b[0m \u001b[0;32mfrom\u001b[0m \u001b[0mkeras\u001b[0m\u001b[0;34m.\u001b[0m\u001b[0mregularizers\u001b[0m \u001b[0;32mimport\u001b[0m \u001b[0ml2\u001b[0m\u001b[0;34m\u001b[0m\u001b[0;34m\u001b[0m\u001b[0m\n\u001b[1;32m     10\u001b[0m \u001b[0;32mfrom\u001b[0m \u001b[0mkeras\u001b[0m\u001b[0;34m.\u001b[0m\u001b[0moptimizers\u001b[0m \u001b[0;32mimport\u001b[0m \u001b[0mSGD\u001b[0m\u001b[0;34m\u001b[0m\u001b[0;34m\u001b[0m\u001b[0m\n\u001b[0;32m---> 11\u001b[0;31m \u001b[0;32mfrom\u001b[0m \u001b[0mpool_helper\u001b[0m \u001b[0;32mimport\u001b[0m \u001b[0mPoolHelper\u001b[0m\u001b[0;34m\u001b[0m\u001b[0;34m\u001b[0m\u001b[0m\n\u001b[0m\u001b[1;32m     12\u001b[0m \u001b[0;32mfrom\u001b[0m \u001b[0mlrn\u001b[0m \u001b[0;32mimport\u001b[0m \u001b[0mLRN\u001b[0m\u001b[0;34m\u001b[0m\u001b[0;34m\u001b[0m\u001b[0m\n\u001b[1;32m     13\u001b[0m \u001b[0;34m\u001b[0m\u001b[0m\n",
      "\u001b[0;32m~/Desktop/comparison_nets/ClassificationAndComparisonViaNeuralNetworks/Combined Neural Network/FAC/pool_helper.py\u001b[0m in \u001b[0;36m<module>\u001b[0;34m\u001b[0m\n\u001b[0;32m----> 1\u001b[0;31m \u001b[0;32mfrom\u001b[0m \u001b[0mkeras\u001b[0m\u001b[0;34m.\u001b[0m\u001b[0mlayers\u001b[0m\u001b[0;34m.\u001b[0m\u001b[0mcore\u001b[0m \u001b[0;32mimport\u001b[0m \u001b[0mLayer\u001b[0m\u001b[0;34m\u001b[0m\u001b[0;34m\u001b[0m\u001b[0m\n\u001b[0m\u001b[1;32m      2\u001b[0m \u001b[0;34m\u001b[0m\u001b[0m\n\u001b[1;32m      3\u001b[0m \u001b[0;34m\u001b[0m\u001b[0m\n\u001b[1;32m      4\u001b[0m \u001b[0;32mclass\u001b[0m \u001b[0mPoolHelper\u001b[0m\u001b[0;34m(\u001b[0m\u001b[0mLayer\u001b[0m\u001b[0;34m)\u001b[0m\u001b[0;34m:\u001b[0m\u001b[0;34m\u001b[0m\u001b[0;34m\u001b[0m\u001b[0m\n\u001b[1;32m      5\u001b[0m \u001b[0;34m\u001b[0m\u001b[0m\n",
      "\u001b[0;31mImportError\u001b[0m: cannot import name 'Layer' from 'keras.layers.core' (/Users/dipika/.pyenv/versions/3.7.9/envs/home/lib/python3.7/site-packages/keras/layers/core.py)"
     ]
    }
   ],
   "source": [
    "\n",
    "\n",
    "\n",
    "\n",
    "def creat_siamese2(no_of_score_layers=2, max_no_of_nodes=128, absolute_data=None):\n",
    "    model_ft = create_googlenet()\n",
    "\n",
    "    return model_ft\n",
    "        \n",
    "    # create final layers of absolute and comparison"
   ]
  },
  {
   "cell_type": "code",
   "execution_count": null,
   "metadata": {},
   "outputs": [],
   "source": []
  },
  {
   "cell_type": "code",
   "execution_count": null,
   "metadata": {},
   "outputs": [],
   "source": []
  },
  {
   "cell_type": "code",
   "execution_count": null,
   "metadata": {},
   "outputs": [],
   "source": []
  },
  {
   "cell_type": "code",
   "execution_count": null,
   "metadata": {},
   "outputs": [],
   "source": []
  },
  {
   "cell_type": "code",
   "execution_count": null,
   "metadata": {},
   "outputs": [],
   "source": []
  }
 ],
 "metadata": {
  "kernelspec": {
   "display_name": "Python 3",
   "language": "python",
   "name": "python3"
  },
  "language_info": {
   "codemirror_mode": {
    "name": "ipython",
    "version": 3
   },
   "file_extension": ".py",
   "mimetype": "text/x-python",
   "name": "python",
   "nbconvert_exporter": "python",
   "pygments_lexer": "ipython3",
   "version": "3.8.8"
  }
 },
 "nbformat": 4,
 "nbformat_minor": 4
}
